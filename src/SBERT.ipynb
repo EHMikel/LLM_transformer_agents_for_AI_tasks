{
 "cells": [
  {
   "cell_type": "code",
   "execution_count": 1,
   "metadata": {},
   "outputs": [],
   "source": [
    "import pandas as pd\n",
    "import numpy as np \n",
    "import warnings\n",
    "warnings.filterwarnings('ignore')"
   ]
  },
  {
   "cell_type": "markdown",
   "metadata": {},
   "source": [
    "# carga y lectura de datos"
   ]
  },
  {
   "cell_type": "code",
   "execution_count": 2,
   "metadata": {},
   "outputs": [
    {
     "name": "stdout",
     "output_type": "stream",
     "text": [
      "486\n"
     ]
    },
    {
     "data": {
      "text/html": [
       "<div>\n",
       "<style scoped>\n",
       "    .dataframe tbody tr th:only-of-type {\n",
       "        vertical-align: middle;\n",
       "    }\n",
       "\n",
       "    .dataframe tbody tr th {\n",
       "        vertical-align: top;\n",
       "    }\n",
       "\n",
       "    .dataframe thead th {\n",
       "        text-align: right;\n",
       "    }\n",
       "</style>\n",
       "<table border=\"1\" class=\"dataframe\">\n",
       "  <thead>\n",
       "    <tr style=\"text-align: right;\">\n",
       "      <th></th>\n",
       "      <th>consulta usuario</th>\n",
       "      <th>respuesta positiva</th>\n",
       "      <th>respuesta negativa 1</th>\n",
       "      <th>respuesta negativa 2</th>\n",
       "      <th>respuesta negativa 3</th>\n",
       "    </tr>\n",
       "  </thead>\n",
       "  <tbody>\n",
       "    <tr>\n",
       "      <th>0</th>\n",
       "      <td>¿Cual es la duración promedio de las películas...</td>\n",
       "      <td>Transforma consultas en lenguaje natural a cód...</td>\n",
       "      <td>Analiza datos de sistemas HVAC para detectar a...</td>\n",
       "      <td>Procesa documentos para extracción de texto me...</td>\n",
       "      <td>Interactúa en conversaciones generales, respon...</td>\n",
       "    </tr>\n",
       "    <tr>\n",
       "      <th>1</th>\n",
       "      <td>¿cuales son los alimentos que tengan más de 30...</td>\n",
       "      <td>Transforma consultas en lenguaje natural a cód...</td>\n",
       "      <td>Analiza datos de sistemas HVAC para detectar a...</td>\n",
       "      <td>Procesa documentos para extracción de texto me...</td>\n",
       "      <td>Interactúa en conversaciones generales, respon...</td>\n",
       "    </tr>\n",
       "    <tr>\n",
       "      <th>2</th>\n",
       "      <td>¿cuantos aviones viajaron a francia desde madr...</td>\n",
       "      <td>Transforma consultas en lenguaje natural a cód...</td>\n",
       "      <td>Analiza datos de sistemas HVAC para detectar a...</td>\n",
       "      <td>Procesa documentos para extracción de texto me...</td>\n",
       "      <td>Interactúa en conversaciones generales, respon...</td>\n",
       "    </tr>\n",
       "    <tr>\n",
       "      <th>3</th>\n",
       "      <td>Dime cómo esta organizada la base de datos</td>\n",
       "      <td>Transforma consultas en lenguaje natural a cód...</td>\n",
       "      <td>Analiza datos de sistemas HVAC para detectar a...</td>\n",
       "      <td>Procesa documentos para extracción de texto me...</td>\n",
       "      <td>Interactúa en conversaciones generales, respon...</td>\n",
       "    </tr>\n",
       "    <tr>\n",
       "      <th>4</th>\n",
       "      <td>De la base de datos 'rna central' ¿cuales son ...</td>\n",
       "      <td>Transforma consultas en lenguaje natural a cód...</td>\n",
       "      <td>Analiza datos de sistemas HVAC para detectar a...</td>\n",
       "      <td>Procesa documentos para extracción de texto me...</td>\n",
       "      <td>Interactúa en conversaciones generales, respon...</td>\n",
       "    </tr>\n",
       "  </tbody>\n",
       "</table>\n",
       "</div>"
      ],
      "text/plain": [
       "                                    consulta usuario  \\\n",
       "0  ¿Cual es la duración promedio de las películas...   \n",
       "1  ¿cuales son los alimentos que tengan más de 30...   \n",
       "2  ¿cuantos aviones viajaron a francia desde madr...   \n",
       "3         Dime cómo esta organizada la base de datos   \n",
       "4  De la base de datos 'rna central' ¿cuales son ...   \n",
       "\n",
       "                                  respuesta positiva  \\\n",
       "0  Transforma consultas en lenguaje natural a cód...   \n",
       "1  Transforma consultas en lenguaje natural a cód...   \n",
       "2  Transforma consultas en lenguaje natural a cód...   \n",
       "3  Transforma consultas en lenguaje natural a cód...   \n",
       "4  Transforma consultas en lenguaje natural a cód...   \n",
       "\n",
       "                                respuesta negativa 1  \\\n",
       "0  Analiza datos de sistemas HVAC para detectar a...   \n",
       "1  Analiza datos de sistemas HVAC para detectar a...   \n",
       "2  Analiza datos de sistemas HVAC para detectar a...   \n",
       "3  Analiza datos de sistemas HVAC para detectar a...   \n",
       "4  Analiza datos de sistemas HVAC para detectar a...   \n",
       "\n",
       "                                respuesta negativa 2  \\\n",
       "0  Procesa documentos para extracción de texto me...   \n",
       "1  Procesa documentos para extracción de texto me...   \n",
       "2  Procesa documentos para extracción de texto me...   \n",
       "3  Procesa documentos para extracción de texto me...   \n",
       "4  Procesa documentos para extracción de texto me...   \n",
       "\n",
       "                                respuesta negativa 3  \n",
       "0  Interactúa en conversaciones generales, respon...  \n",
       "1  Interactúa en conversaciones generales, respon...  \n",
       "2  Interactúa en conversaciones generales, respon...  \n",
       "3  Interactúa en conversaciones generales, respon...  \n",
       "4  Interactúa en conversaciones generales, respon...  "
      ]
     },
     "execution_count": 2,
     "metadata": {},
     "output_type": "execute_result"
    }
   ],
   "source": [
    "path = \"C:/Users/plane/OneDrive/Escritorio/COMPUTING SCIENCE/TFM_transformer_agents/data/SBERT_data.xlsx\"\n",
    "df = pd.read_excel(path)\n",
    "\n",
    "print(len(df))\n",
    "df.head()"
   ]
  },
  {
   "cell_type": "code",
   "execution_count": 3,
   "metadata": {},
   "outputs": [
    {
     "name": "stdout",
     "output_type": "stream",
     "text": [
      "(array(['Analiza datos de sistemas HVAC para detectar anomalías usando modelos de machine learning, preprocesa datos, realiza predicciones y entrega un informe detallado con observaciones relevantes y predicciones sobre el estado del sistema.',\n",
      "       'Interactúa en conversaciones generales, respondiendo a preguntas y proporcionando información o asistencia sobre temas variados que no requieren acceso a bases de datos específicas, análisis de anomalías o procesamiento de documentos.',\n",
      "       'Procesa documentos para extracción de texto mediante OCR y detecta objetos escritos a mano como firmas, iniciales, redacciones o fechas usando un modelo YOLO ajustado, y ofrece una traducción y resumen del contenido destacando información clave e indicando la ubicación del contenido manuscrito.',\n",
      "       'Transforma consultas en lenguaje natural a código SQL, ejecuta consultas en la base de datos y proporciona informes detallados de los resultados en lenguaje natural.'],\n",
      "      dtype=object), array([108, 128, 127, 123], dtype=int64))\n",
      "\n",
      "\n",
      "respuesta positiva\n",
      "Interactúa en conversaciones generales, respondiendo a preguntas y proporcionando información o asistencia sobre temas variados que no requieren acceso a bases de datos específicas, análisis de anomalías o procesamiento de documentos.                                                                 0.263374\n",
      "Procesa documentos para extracción de texto mediante OCR y detecta objetos escritos a mano como firmas, iniciales, redacciones o fechas usando un modelo YOLO ajustado, y ofrece una traducción y resumen del contenido destacando información clave e indicando la ubicación del contenido manuscrito.    0.261317\n",
      "Transforma consultas en lenguaje natural a código SQL, ejecuta consultas en la base de datos y proporciona informes detallados de los resultados en lenguaje natural.                                                                                                                                      0.253086\n",
      "Analiza datos de sistemas HVAC para detectar anomalías usando modelos de machine learning, preprocesa datos, realiza predicciones y entrega un informe detallado con observaciones relevantes y predicciones sobre el estado del sistema.                                                                  0.222222\n",
      "Name: proportion, dtype: float64\n"
     ]
    }
   ],
   "source": [
    "labels = df['respuesta positiva'].values\n",
    "print(np.unique(labels, return_counts= True))\n",
    "print('\\n')\n",
    "print(df['respuesta positiva'].value_counts(normalize=True))"
   ]
  },
  {
   "cell_type": "markdown",
   "metadata": {},
   "source": [
    "# Preparación de datos para sentence BERT"
   ]
  },
  {
   "cell_type": "code",
   "execution_count": 4,
   "metadata": {},
   "outputs": [],
   "source": [
    "from sklearn.model_selection import train_test_split"
   ]
  },
  {
   "cell_type": "code",
   "execution_count": 5,
   "metadata": {},
   "outputs": [
    {
     "name": "stdout",
     "output_type": "stream",
     "text": [
      "Train and test datasets shape\n",
      "(371, 5)\n",
      "(66, 5)\n",
      "(49, 5)\n",
      "\n",
      "\n",
      "Estratificiation of the data\n",
      "[0.26415094 0.26145553 0.25336927 0.22102426]\n",
      "[0.25757576 0.25757576 0.25757576 0.22727273]\n",
      "[0.26530612 0.26530612 0.24489796 0.2244898 ]\n"
     ]
    }
   ],
   "source": [
    "train_data_full, test_data = train_test_split(df, random_state=42, test_size=0.10, shuffle=True, stratify=df['respuesta positiva'].values,)\n",
    "train_data, val_data = train_test_split(train_data_full, random_state=42, test_size=0.15, shuffle=True, stratify=train_data_full['respuesta positiva'].values,)\n",
    "\n",
    "print('Train and test datasets shape')\n",
    "print(train_data.shape)\n",
    "print(val_data.shape)\n",
    "print(test_data.shape)\n",
    "print('\\n')\n",
    "\n",
    "print('Estratificiation of the data')\n",
    "print(train_data['respuesta positiva'].value_counts(normalize= True).values)\n",
    "print(val_data['respuesta positiva'].value_counts(normalize= True).values)\n",
    "print(test_data['respuesta positiva'].value_counts(normalize= True).values)"
   ]
  },
  {
   "cell_type": "code",
   "execution_count": 6,
   "metadata": {},
   "outputs": [
    {
     "data": {
      "text/html": [
       "<div>\n",
       "<style scoped>\n",
       "    .dataframe tbody tr th:only-of-type {\n",
       "        vertical-align: middle;\n",
       "    }\n",
       "\n",
       "    .dataframe tbody tr th {\n",
       "        vertical-align: top;\n",
       "    }\n",
       "\n",
       "    .dataframe thead th {\n",
       "        text-align: right;\n",
       "    }\n",
       "</style>\n",
       "<table border=\"1\" class=\"dataframe\">\n",
       "  <thead>\n",
       "    <tr style=\"text-align: right;\">\n",
       "      <th></th>\n",
       "      <th>consulta usuario</th>\n",
       "      <th>respuesta positiva</th>\n",
       "      <th>respuesta negativa 1</th>\n",
       "      <th>respuesta negativa 2</th>\n",
       "      <th>respuesta negativa 3</th>\n",
       "    </tr>\n",
       "  </thead>\n",
       "  <tbody>\n",
       "    <tr>\n",
       "      <th>319</th>\n",
       "      <td>¿Hay alguna mención a fechas límite o plazos e...</td>\n",
       "      <td>Procesa documentos para extracción de texto me...</td>\n",
       "      <td>Analiza datos de sistemas HVAC para detectar a...</td>\n",
       "      <td>Transforma consultas en lenguaje natural a cód...</td>\n",
       "      <td>Interactúa en conversaciones generales, respon...</td>\n",
       "    </tr>\n",
       "    <tr>\n",
       "      <th>5</th>\n",
       "      <td>¿Qué precio tienen las peliculas en las que ha...</td>\n",
       "      <td>Transforma consultas en lenguaje natural a cód...</td>\n",
       "      <td>Analiza datos de sistemas HVAC para detectar a...</td>\n",
       "      <td>Procesa documentos para extracción de texto me...</td>\n",
       "      <td>Interactúa en conversaciones generales, respon...</td>\n",
       "    </tr>\n",
       "    <tr>\n",
       "      <th>307</th>\n",
       "      <td>Detail any handwritten instructions on this re...</td>\n",
       "      <td>Procesa documentos para extracción de texto me...</td>\n",
       "      <td>Analiza datos de sistemas HVAC para detectar a...</td>\n",
       "      <td>Transforma consultas en lenguaje natural a cód...</td>\n",
       "      <td>Interactúa en conversaciones generales, respon...</td>\n",
       "    </tr>\n",
       "    <tr>\n",
       "      <th>12</th>\n",
       "      <td>Detalla el porcentaje de estudiantes que obtuv...</td>\n",
       "      <td>Transforma consultas en lenguaje natural a cód...</td>\n",
       "      <td>Analiza datos de sistemas HVAC para detectar a...</td>\n",
       "      <td>Procesa documentos para extracción de texto me...</td>\n",
       "      <td>Interactúa en conversaciones generales, respon...</td>\n",
       "    </tr>\n",
       "    <tr>\n",
       "      <th>425</th>\n",
       "      <td>Detalla cómo el cambio climático está afectand...</td>\n",
       "      <td>Interactúa en conversaciones generales, respon...</td>\n",
       "      <td>Procesa documentos para extracción de texto me...</td>\n",
       "      <td>Analiza datos de sistemas HVAC para detectar a...</td>\n",
       "      <td>Transforma consultas en lenguaje natural a cód...</td>\n",
       "    </tr>\n",
       "  </tbody>\n",
       "</table>\n",
       "</div>"
      ],
      "text/plain": [
       "                                      consulta usuario  \\\n",
       "319  ¿Hay alguna mención a fechas límite o plazos e...   \n",
       "5    ¿Qué precio tienen las peliculas en las que ha...   \n",
       "307  Detail any handwritten instructions on this re...   \n",
       "12   Detalla el porcentaje de estudiantes que obtuv...   \n",
       "425  Detalla cómo el cambio climático está afectand...   \n",
       "\n",
       "                                    respuesta positiva  \\\n",
       "319  Procesa documentos para extracción de texto me...   \n",
       "5    Transforma consultas en lenguaje natural a cód...   \n",
       "307  Procesa documentos para extracción de texto me...   \n",
       "12   Transforma consultas en lenguaje natural a cód...   \n",
       "425  Interactúa en conversaciones generales, respon...   \n",
       "\n",
       "                                  respuesta negativa 1  \\\n",
       "319  Analiza datos de sistemas HVAC para detectar a...   \n",
       "5    Analiza datos de sistemas HVAC para detectar a...   \n",
       "307  Analiza datos de sistemas HVAC para detectar a...   \n",
       "12   Analiza datos de sistemas HVAC para detectar a...   \n",
       "425  Procesa documentos para extracción de texto me...   \n",
       "\n",
       "                                  respuesta negativa 2  \\\n",
       "319  Transforma consultas en lenguaje natural a cód...   \n",
       "5    Procesa documentos para extracción de texto me...   \n",
       "307  Transforma consultas en lenguaje natural a cód...   \n",
       "12   Procesa documentos para extracción de texto me...   \n",
       "425  Analiza datos de sistemas HVAC para detectar a...   \n",
       "\n",
       "                                  respuesta negativa 3  \n",
       "319  Interactúa en conversaciones generales, respon...  \n",
       "5    Interactúa en conversaciones generales, respon...  \n",
       "307  Interactúa en conversaciones generales, respon...  \n",
       "12   Interactúa en conversaciones generales, respon...  \n",
       "425  Transforma consultas en lenguaje natural a cód...  "
      ]
     },
     "execution_count": 6,
     "metadata": {},
     "output_type": "execute_result"
    }
   ],
   "source": [
    "train_data.head()"
   ]
  },
  {
   "cell_type": "code",
   "execution_count": 7,
   "metadata": {},
   "outputs": [],
   "source": [
    "from sentence_transformers import InputExample\n",
    "from torch.utils.data import DataLoader"
   ]
  },
  {
   "cell_type": "code",
   "execution_count": 32,
   "metadata": {},
   "outputs": [],
   "source": [
    "def create_examples(df): \n",
    "    examples = []\n",
    "    for i, row in df.iterrows(): \n",
    "        text = [row['consulta usuario'], row['respuesta positiva']] + row['respuesta negativa 1':'respuesta negativa 3'].tolist()\n",
    "        examples.append(InputExample(texts= text))\n",
    "    return examples\n",
    "\n",
    "\n",
    "train_examples = create_examples(train_data_full)\n",
    "val_examples = create_examples(val_data)"
   ]
  },
  {
   "cell_type": "markdown",
   "metadata": {},
   "source": [
    "# Entrenamiento y validación de sentence BERT"
   ]
  },
  {
   "cell_type": "code",
   "execution_count": 33,
   "metadata": {},
   "outputs": [],
   "source": [
    "from sentence_transformers import SentenceTransformer, losses, evaluation\n",
    "from torch.utils.data import DataLoader\n",
    "import torch"
   ]
  },
  {
   "cell_type": "code",
   "execution_count": 34,
   "metadata": {},
   "outputs": [
    {
     "name": "stdout",
     "output_type": "stream",
     "text": [
      "CUDA (GPU support) está disponible en este sistema.\n",
      "Número de dispositivos GPU disponibles: 1\n",
      "Nombre del dispositivo GPU actual: NVIDIA GeForce RTX 2060\n"
     ]
    }
   ],
   "source": [
    "# Comprueba si CUDA (GPU support) está disponible\n",
    "if torch.cuda.is_available():\n",
    "    print(\"CUDA (GPU support) está disponible en este sistema.\")\n",
    "    print(\"Número de dispositivos GPU disponibles:\", torch.cuda.device_count())\n",
    "    print(\"Nombre del dispositivo GPU actual:\", torch.cuda.get_device_name(torch.cuda.current_device()))\n",
    "else:\n",
    "    print(\"CUDA (GPU support) no está disponible en este sistema.\")"
   ]
  },
  {
   "cell_type": "code",
   "execution_count": 35,
   "metadata": {},
   "outputs": [
    {
     "name": "stderr",
     "output_type": "stream",
     "text": [
      "Iteration: 100%|██████████| 28/28 [00:05<00:00,  5.49it/s]\n",
      "Iteration: 100%|██████████| 28/28 [00:04<00:00,  5.89it/s]\n",
      "Iteration: 100%|██████████| 28/28 [00:04<00:00,  5.87it/s]\n",
      "Iteration: 100%|██████████| 28/28 [00:04<00:00,  5.86it/s]\n",
      "Iteration: 100%|██████████| 28/28 [00:04<00:00,  5.85it/s]\n",
      "Iteration: 100%|██████████| 28/28 [00:04<00:00,  5.63it/s]\n",
      "Iteration: 100%|██████████| 28/28 [00:05<00:00,  5.60it/s]\n",
      "Iteration: 100%|██████████| 28/28 [00:05<00:00,  5.51it/s]\n",
      "Iteration: 100%|██████████| 28/28 [00:05<00:00,  5.41it/s]\n",
      "Iteration: 100%|██████████| 28/28 [00:05<00:00,  5.31it/s]\n",
      "Iteration: 100%|██████████| 28/28 [00:05<00:00,  5.27it/s]\n",
      "Iteration: 100%|██████████| 28/28 [00:05<00:00,  5.24it/s]\n",
      "Iteration: 100%|██████████| 28/28 [00:05<00:00,  5.20it/s]\n",
      "Iteration: 100%|██████████| 28/28 [00:05<00:00,  5.19it/s]\n",
      "Iteration: 100%|██████████| 28/28 [00:05<00:00,  5.09it/s]\n",
      "Iteration: 100%|██████████| 28/28 [00:05<00:00,  5.08it/s]\n",
      "Iteration: 100%|██████████| 28/28 [00:05<00:00,  5.02it/s]\n",
      "Iteration: 100%|██████████| 28/28 [00:05<00:00,  5.01it/s]\n",
      "Iteration: 100%|██████████| 28/28 [00:05<00:00,  4.93it/s]\n",
      "Iteration: 100%|██████████| 28/28 [00:05<00:00,  4.91it/s]\n",
      "Epoch: 100%|██████████| 20/20 [01:44<00:00,  5.24s/it]\n"
     ]
    }
   ],
   "source": [
    "# evaluador durante el entrenamiento para la validación\n",
    "#evaluator = evaluation.EmbeddingSimilarityEvaluator(val_dataloader)\n",
    "val_dataloader = DataLoader(val_examples, shuffle=False, batch_size=16)\n",
    "model_saved_path = 'C:/Users/plane/OneDrive/Escritorio/COMPUTING SCIENCE/TFM_transformer_agents/src/models/SBERT'\n",
    "\n",
    "\n",
    "#max_seq_length = 256\n",
    "model = SentenceTransformer('all-MiniLM-L6-v2')\n",
    "\n",
    "train_dataloader = DataLoader(\n",
    "    train_examples, shuffle=True, batch_size=16\n",
    "            )\n",
    "\n",
    "# funcion de perdida\n",
    "train_loss = losses.MultipleNegativesRankingLoss(model)\n",
    "\n",
    "# train\n",
    "model.fit(\n",
    "    train_objectives=[(train_dataloader, train_loss)], \n",
    "    epochs= 20, \n",
    "    warmup_steps=40, \n",
    "    optimizer_class= torch.optim.AdamW, \n",
    "    optimizer_params={'lr':2e-05},\n",
    "    output_path=model_saved_path, \n",
    "    save_best_model=True, \n",
    "    show_progress_bar=True)"
   ]
  },
  {
   "cell_type": "markdown",
   "metadata": {},
   "source": [
    "# Validando el modelo"
   ]
  },
  {
   "cell_type": "code",
   "execution_count": 36,
   "metadata": {},
   "outputs": [],
   "source": [
    "my_model = SentenceTransformer(model_saved_path)"
   ]
  },
  {
   "cell_type": "code",
   "execution_count": 37,
   "metadata": {},
   "outputs": [
    {
     "name": "stdout",
     "output_type": "stream",
     "text": [
      "Examine this workshop flyer for the date and location of the event, especially any handwritten updates.\n",
      "Procesa documentos para extracción de texto mediante OCR y detecta objetos escritos a mano como firmas, iniciales, redacciones o fechas usando un modelo YOLO ajustado, y ofrece una traducción y resumen del contenido destacando información clave e indicando la ubicación del contenido manuscrito.\n",
      "['Analiza datos de sistemas HVAC para detectar anomalías usando modelos de machine learning, preprocesa datos, realiza predicciones y entrega un informe detallado con observaciones relevantes y predicciones sobre el estado del sistema.'\n",
      " 'Transforma consultas en lenguaje natural a código SQL, ejecuta consultas en la base de datos y proporciona informes detallados de los resultados en lenguaje natural.'\n",
      " 'Interactúa en conversaciones generales, respondiendo a preguntas y proporcionando información o asistencia sobre temas variados que no requieren acceso a bases de datos específicas, análisis de anomalías o procesamiento de documentos.']\n"
     ]
    }
   ],
   "source": [
    "un_ejemplo = val_data['consulta usuario'].values[0]\n",
    "la_resp_del_ejemplo = val_data['respuesta positiva'].values[0]\n",
    "las_negativas = val_data.loc[:,'respuesta negativa 1':'respuesta negativa 3'].values[0]\n",
    "\n",
    "print(un_ejemplo)\n",
    "print(la_resp_del_ejemplo)\n",
    "print(las_negativas)"
   ]
  },
  {
   "cell_type": "code",
   "execution_count": 38,
   "metadata": {},
   "outputs": [],
   "source": [
    "emb = my_model.encode(un_ejemplo)\n",
    "\n",
    "emb_res_correcta = my_model.encode(la_resp_del_ejemplo)\n",
    "emb_incorrectos = [my_model.encode(res_mala) for res_mala in las_negativas]"
   ]
  },
  {
   "cell_type": "code",
   "execution_count": 39,
   "metadata": {},
   "outputs": [
    {
     "name": "stdout",
     "output_type": "stream",
     "text": [
      "0.41996613\n",
      "0.028319875\n",
      "-0.09343702\n",
      "0.038406316\n"
     ]
    }
   ],
   "source": [
    "# from sklearn.metrics.pairwise import cosine_similarity\n",
    "def cosine_similarity(embedding1, embedding2) -> float: \n",
    "    #print(type(embedding1), type(embedding2))\n",
    "    from numpy.linalg import norm\n",
    "    cos_sim = np.dot(embedding1, embedding2)/(norm(embedding1)*norm(embedding2))\n",
    "    return cos_sim\n",
    "\n",
    "print(cosine_similarity(emb, emb_res_correcta))\n",
    "\n",
    "for vect in emb_incorrectos: \n",
    "    print(cosine_similarity(emb, vect))"
   ]
  },
  {
   "cell_type": "code",
   "execution_count": 40,
   "metadata": {},
   "outputs": [
    {
     "name": "stdout",
     "output_type": "stream",
     "text": [
      "0.17721528\n",
      "0.091546685\n",
      "0.0036100738\n",
      "0.13311857\n"
     ]
    }
   ],
   "source": [
    "model = SentenceTransformer('all-MiniLM-L6-v2')\n",
    "emb = model.encode(un_ejemplo)\n",
    "\n",
    "emb_res_correcta = model.encode(la_resp_del_ejemplo)\n",
    "emb_incorrectos = [model.encode(res_mala) for res_mala in las_negativas]\n",
    "\n",
    "print(cosine_similarity(emb, emb_res_correcta))\n",
    "\n",
    "for vect in emb_incorrectos: \n",
    "    print(cosine_similarity(emb, vect))"
   ]
  },
  {
   "cell_type": "code",
   "execution_count": 45,
   "metadata": {},
   "outputs": [],
   "source": [
    "def prepare_test(df, model): \n",
    "    examples = []\n",
    "    for i, row in df.iterrows(): \n",
    "        text_and_embeddings = {\n",
    "                row['consulta usuario']: model.encode(row['consulta usuario']), \n",
    "                row['respuesta positiva']:model.encode(row['respuesta positiva']), \n",
    "                row['respuesta negativa 1']:model.encode(row['respuesta negativa 1']), \n",
    "                row['respuesta negativa 2']:model.encode(row['respuesta negativa 2']),\n",
    "                row['respuesta negativa 3']:model.encode(row['respuesta negativa 3'])}\n",
    "        examples.append(pd.Series(text_and_embeddings))\n",
    "    return examples\n",
    "\n",
    "\n",
    "val_examples_embeddings = prepare_test(val_data, model= my_model)\n",
    "# test_exam_not_trained_model = prepare_test(test_data, model= model)\n",
    "#print(test_examples_embeddings[:2])\n",
    "#test_data.head()"
   ]
  },
  {
   "cell_type": "code",
   "execution_count": 46,
   "metadata": {},
   "outputs": [
    {
     "name": "stdout",
     "output_type": "stream",
     "text": [
      "Index(['Examine this workshop flyer for the date and location of the event, especially any handwritten updates.',\n",
      "       'Procesa documentos para extracción de texto mediante OCR y detecta objetos escritos a mano como firmas, iniciales, redacciones o fechas usando un modelo YOLO ajustado, y ofrece una traducción y resumen del contenido destacando información clave e indicando la ubicación del contenido manuscrito.',\n",
      "       'Analiza datos de sistemas HVAC para detectar anomalías usando modelos de machine learning, preprocesa datos, realiza predicciones y entrega un informe detallado con observaciones relevantes y predicciones sobre el estado del sistema.',\n",
      "       'Transforma consultas en lenguaje natural a código SQL, ejecuta consultas en la base de datos y proporciona informes detallados de los resultados en lenguaje natural.',\n",
      "       'Interactúa en conversaciones generales, respondiendo a preguntas y proporcionando información o asistencia sobre temas variados que no requieren acceso a bases de datos específicas, análisis de anomalías o procesamiento de documentos.'],\n",
      "      dtype='object')\n"
     ]
    }
   ],
   "source": [
    "print(val_examples_embeddings[0].index)\n",
    "#print(test_examples_embeddings[10].index[3])"
   ]
  },
  {
   "cell_type": "code",
   "execution_count": 47,
   "metadata": {},
   "outputs": [
    {
     "name": "stdout",
     "output_type": "stream",
     "text": [
      "0.41996613\n",
      "0.028319875\n",
      "-0.09343702\n",
      "0.038406316\n"
     ]
    }
   ],
   "source": [
    "print(cosine_similarity(val_examples_embeddings[0][0], val_examples_embeddings[0][1]))\n",
    "print(cosine_similarity(val_examples_embeddings[0][0], val_examples_embeddings[0][2]))\n",
    "print(cosine_similarity(val_examples_embeddings[0][0], val_examples_embeddings[0][3]))\n",
    "print(cosine_similarity(val_examples_embeddings[0][0], val_examples_embeddings[0][4]))"
   ]
  },
  {
   "cell_type": "code",
   "execution_count": 49,
   "metadata": {},
   "outputs": [
    {
     "name": "stdout",
     "output_type": "stream",
     "text": [
      "['OCR', 'OCR', 'CHAT', 'HVAC', 'SQL', 'OCR', 'CHAT', 'SQL', 'SQL', 'SQL', 'HVAC', 'OCR', 'OCR', 'HVAC', 'SQL', 'CHAT', 'SQL', 'HVAC', 'HVAC', 'SQL', 'CHAT', 'HVAC', 'HVAC', 'OCR', 'SQL', 'CHAT', 'OCR', 'OCR', 'OCR', 'CHAT', 'CHAT', 'OCR', 'HVAC', 'HVAC', 'SQL', 'OCR', 'SQL', 'CHAT', 'CHAT', 'SQL', 'OCR', 'HVAC', 'CHAT', 'OCR', 'HVAC', 'OCR', 'OCR', 'CHAT', 'HVAC', 'OCR', 'SQL', 'HVAC', 'HVAC', 'SQL', 'CHAT', 'OCR', 'CHAT', 'CHAT', 'HVAC', 'CHAT', 'CHAT', 'SQL', 'SQL', 'SQL', 'SQL', 'CHAT']\n"
     ]
    }
   ],
   "source": [
    "def parse_labels(data):\n",
    "    parsed_labels = []\n",
    "    for n in data: \n",
    "        #print(n)\n",
    "        if n == 'Analiza datos de sistemas HVAC para detectar anomalías usando modelos de machine learning, preprocesa datos, realiza predicciones y entrega un informe detallado con observaciones relevantes y predicciones sobre el estado del sistema.': \n",
    "            parsed_labels.append('HVAC')\n",
    "        elif n == 'Interactúa en conversaciones generales, respondiendo a preguntas y proporcionando información o asistencia sobre temas variados que no requieren acceso a bases de datos específicas, análisis de anomalías o procesamiento de documentos.': \n",
    "            parsed_labels.append('CHAT')\n",
    "        elif n == 'Procesa documentos para extracción de texto mediante OCR y detecta objetos escritos a mano como firmas, iniciales, redacciones o fechas usando un modelo YOLO ajustado, y ofrece una traducción y resumen del contenido destacando información clave e indicando la ubicación del contenido manuscrito.': \n",
    "            parsed_labels.append('OCR')\n",
    "        elif n == 'Transforma consultas en lenguaje natural a código SQL, ejecuta consultas en la base de datos y proporciona informes detallados de los resultados en lenguaje natural.': \n",
    "            parsed_labels.append('SQL')\n",
    "    return parsed_labels\n",
    "\n",
    "val_ground_truth = parse_labels(val_data['respuesta positiva'])\n",
    "print(val_ground_truth)"
   ]
  },
  {
   "cell_type": "code",
   "execution_count": 50,
   "metadata": {},
   "outputs": [
    {
     "name": "stdout",
     "output_type": "stream",
     "text": [
      "['OCR', 'OCR', 'CHAT', 'HVAC', 'SQL', 'OCR', 'CHAT', 'SQL', 'SQL', 'SQL', 'HVAC', 'OCR', 'OCR', 'HVAC', 'SQL', 'CHAT', 'SQL', 'HVAC', 'HVAC', 'SQL', 'CHAT', 'HVAC', 'HVAC', 'OCR', 'SQL', 'CHAT', 'OCR', 'OCR', 'OCR', 'CHAT', 'CHAT', 'OCR', 'HVAC', 'HVAC', 'SQL', 'OCR', 'SQL', 'CHAT', 'CHAT', 'SQL', 'OCR', 'HVAC', 'CHAT', 'OCR', 'HVAC', 'OCR', 'OCR', 'CHAT', 'HVAC', 'OCR', 'SQL', 'HVAC', 'HVAC', 'SQL', 'CHAT', 'OCR', 'CHAT', 'CHAT', 'HVAC', 'CHAT', 'CHAT', 'SQL', 'SQL', 'SQL', 'SQL', 'CHAT']\n"
     ]
    }
   ],
   "source": [
    "predicted_text = []\n",
    "#max_similarities = []\n",
    "for example in val_examples_embeddings: \n",
    "\n",
    "    emb_consulta = example[0]\n",
    "    similaritys = [cosine_similarity(emb_consulta, emb_respuesta) for emb_respuesta in example[1:]]\n",
    "    predicted_index = 1 + np.argmax(similaritys)\n",
    "    predicted_text.append(example.index[predicted_index])\n",
    "\n",
    "val_predicted_labels = parse_labels(predicted_text)\n",
    "print(val_predicted_labels)"
   ]
  },
  {
   "cell_type": "code",
   "execution_count": 51,
   "metadata": {},
   "outputs": [
    {
     "name": "stdout",
     "output_type": "stream",
     "text": [
      "1.0\n",
      "[[17  0  0  0]\n",
      " [ 0 15  0  0]\n",
      " [ 0  0 17  0]\n",
      " [ 0  0  0 17]]\n"
     ]
    }
   ],
   "source": [
    "from sklearn.metrics import accuracy_score, confusion_matrix\n",
    "\n",
    "\n",
    "print(accuracy_score(y_true= val_ground_truth, y_pred= val_predicted_labels))\n",
    "\n",
    "conf_matrix = confusion_matrix(y_true= val_ground_truth, y_pred= val_predicted_labels)\n",
    "\n",
    "print(conf_matrix)"
   ]
  },
  {
   "cell_type": "markdown",
   "metadata": {},
   "source": [
    "# Fase de test\n",
    "\n",
    "## modelo sin entrenar"
   ]
  },
  {
   "cell_type": "code",
   "execution_count": 55,
   "metadata": {},
   "outputs": [],
   "source": [
    "labels = ['SQL', 'OCR', 'HVAC', 'CHAT']"
   ]
  },
  {
   "cell_type": "code",
   "execution_count": 85,
   "metadata": {},
   "outputs": [
    {
     "name": "stdout",
     "output_type": "stream",
     "text": [
      "Accuracy of the not fine tuned model\n",
      "0.7142857142857143\n",
      "The confusion matrix of the NOT fine tuned model\n",
      "[[ 7  1  1  3]\n",
      " [ 2  8  0  3]\n",
      " [ 0  0 10  1]\n",
      " [ 0  1  2 10]]\n"
     ]
    }
   ],
   "source": [
    "test_examples_embeddings = prepare_test(test_data, model= model)\n",
    "\n",
    "test_ground_truth = parse_labels(test_data['respuesta positiva'])\n",
    "\n",
    "predicted_text = []\n",
    "max_similarities_not_ft = []\n",
    "for example in test_examples_embeddings: \n",
    "\n",
    "    emb_consulta = example[0]\n",
    "    similaritys = [cosine_similarity(emb_consulta, emb_respuesta) for emb_respuesta in example[1:]]\n",
    "    predicted_index = 1 + np.argmax(similaritys)\n",
    "    max_similarities_not_ft.append(max(similaritys))\n",
    "    predicted_text.append(example.index[predicted_index])\n",
    "test_predicted_labels = parse_labels(predicted_text)\n",
    "#print(test_predicted_labels)\n",
    "\n",
    "print('Accuracy of the not fine tuned model')\n",
    "print(accuracy_score(y_true= test_ground_truth, y_pred= test_predicted_labels))\n",
    "\n",
    "conf_matrix_no_train_model = confusion_matrix(y_true= test_ground_truth, y_pred= test_predicted_labels, labels = labels)\n",
    "\n",
    "print('The confusion matrix of the NOT fine tuned model')\n",
    "print(conf_matrix_no_train_model)"
   ]
  },
  {
   "cell_type": "markdown",
   "metadata": {},
   "source": [
    "## modelo entrenado"
   ]
  },
  {
   "cell_type": "code",
   "execution_count": 82,
   "metadata": {},
   "outputs": [
    {
     "name": "stdout",
     "output_type": "stream",
     "text": [
      "Accuracy of the fine tuned model\n",
      "1.0\n",
      "The confusion matrix of the fine tuned model\n",
      "[[12  0  0  0]\n",
      " [ 0 13  0  0]\n",
      " [ 0  0 11  0]\n",
      " [ 0  0  0 13]]\n"
     ]
    }
   ],
   "source": [
    "test_examples_embeddings = prepare_test(test_data, model= my_model)\n",
    "\n",
    "predicted_text = []\n",
    "max_similarities_ft = []\n",
    "for example in test_examples_embeddings: \n",
    "\n",
    "    emb_consulta = example[0]\n",
    "    similaritys = [cosine_similarity(emb_consulta, emb_respuesta) for emb_respuesta in example[1:]]\n",
    "    predicted_index = 1 + np.argmax(similaritys)\n",
    "    max_similarities_ft.append(max(similaritys))\n",
    "    predicted_text.append(example.index[predicted_index])\n",
    "test_predicted_labels = parse_labels(predicted_text)\n",
    "#print(test_predicted_labels)\n",
    "\n",
    "print('Accuracy of the fine tuned model')\n",
    "print(accuracy_score(y_true= test_ground_truth, y_pred= test_predicted_labels))\n",
    "\n",
    "conf_matrix_trained_model = confusion_matrix(y_true= test_ground_truth, y_pred= test_predicted_labels, labels = labels)\n",
    "\n",
    "print('The confusion matrix of the fine tuned model')\n",
    "print(conf_matrix_trained_model)"
   ]
  },
  {
   "cell_type": "code",
   "execution_count": 83,
   "metadata": {},
   "outputs": [],
   "source": [
    "import matplotlib.pyplot as plt \n",
    "import seaborn as sns\n",
    "from matplotlib import colormaps\n",
    "#list(colormaps)"
   ]
  },
  {
   "cell_type": "code",
   "execution_count": 119,
   "metadata": {},
   "outputs": [
    {
     "data": {
      "image/png": "[encoded data removed]",
      "text/plain": [
       "<Figure size 1400x700 with 4 Axes>"
      ]
     },
     "metadata": {},
     "output_type": "display_data"
    }
   ],
   "source": [
    "import matplotlib.pyplot as plt \n",
    "import seaborn as sns\n",
    "\n",
    "f, (ax1, ax2) = plt.subplots(1, 2, sharey=True, figsize= (14, 7))\n",
    "\n",
    "sns.heatmap(\n",
    "    conf_matrix_no_train_model, \n",
    "    annot= True, \n",
    "    fmt= 'd', \n",
    "    cmap='Greys', \n",
    "    xticklabels=labels, \n",
    "    yticklabels=labels, \n",
    "    annot_kws={\"size\": 16}, \n",
    "    cbar=True, ax=ax1)\n",
    "ax1.set_title(f'Not fine tuned model: {71.42}% of accuracy', fontsize= 16)\n",
    "ax1.set_xticklabels(labels, fontsize=12)\n",
    "ax1.set_yticklabels(labels, fontsize=12)\n",
    "\n",
    "sns.heatmap(\n",
    "    conf_matrix_trained_model, \n",
    "    annot= True, \n",
    "    fmt= 'd', \n",
    "    cmap='Greys', \n",
    "    xticklabels=labels, \n",
    "    yticklabels=labels, \n",
    "    annot_kws={\"size\": 16}, \n",
    "    cbar=True, ax=ax2)\n",
    "\n",
    "ax2.set_title(f'Fine tuned model: {100.00} % of accuracy', fontsize= 16)\n",
    "ax2.set_xticklabels(labels, fontsize=12)\n",
    "ax2.set_yticklabels(labels, fontsize=12)\n",
    "\n",
    "plt.savefig('FT_LM_conf_matrix.png', bbox_inches='tight', dpi=300)\n",
    "plt.tight_layout()\n",
    "plt.show()"
   ]
  },
  {
   "cell_type": "code",
   "execution_count": 120,
   "metadata": {},
   "outputs": [
    {
     "data": {
      "image/png": "[encoded data removed]",
      "text/plain": [
       "<Figure size 1200x900 with 1 Axes>"
      ]
     },
     "metadata": {},
     "output_type": "display_data"
    }
   ],
   "source": [
    "x = np.arange(len(test_data))\n",
    "ancho = 0.42\n",
    "\n",
    "plt.figure(figsize=(12, 9), facecolor='lightgrey')\n",
    "\n",
    "plt.bar(x= x - ancho/2, height= max_similarities_not_ft, width=ancho,color='blue', alpha= 0.8, label= 'Not fine tuned model', edgecolor='black')\n",
    "plt.bar(x= x + ancho/2, height=max_similarities_ft, width=ancho, color= 'purple', alpha= 0.9, label= 'Fine tuned model', edgecolor='black')\n",
    "plt.legend(fontsize= 14)\n",
    "plt.grid()\n",
    "plt.ylim(top= 0.9)\n",
    "plt.title('FT vs Not FT Sentence BERT maximum cosine similarities', fontsize= 16, pad=10)\n",
    "\n",
    "plt.savefig('max_cosine_similarities.png', bbox_inches='tight', dpi=300, facecolor='lightgrey')\n",
    "plt.show()"
   ]
  },
  {
   "cell_type": "code",
   "execution_count": null,
   "metadata": {},
   "outputs": [],
   "source": []
  }
 ],
 "metadata": {
  "kernelspec": {
   "display_name": "venv",
   "language": "python",
   "name": "python3"
  },
  "language_info": {
   "codemirror_mode": {
    "name": "ipython",
    "version": 3
   },
   "file_extension": ".py",
   "mimetype": "text/x-python",
   "name": "python",
   "nbconvert_exporter": "python",
   "pygments_lexer": "ipython3",
   "version": "3.9.11"
  }
 },
 "nbformat": 4,
 "nbformat_minor": 2
}
