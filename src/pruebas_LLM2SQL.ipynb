{
 "cells": [
  {
   "cell_type": "code",
   "execution_count": 1,
   "metadata": {},
   "outputs": [],
   "source": [
    "from LLMstoDataBase import LLMsToDataBase, SQLAgent\n",
    "from open_ai_utils import enviar_promt_chat_completions_mode, get_embedding, simular_respuesta_generativa\n",
    "from calcular_tokens import num_tokens_from_string, num_tokens_from_messages\n",
    "\n",
    "import warnings\n",
    "\n",
    "# Ignorar todos los warnings\n",
    "warnings.filterwarnings('ignore')\n",
    "\n",
    "import pandas as pd\n",
    "import openai\n",
    "import numpy as np\n",
    "import os"
   ]
  },
  {
   "cell_type": "code",
   "execution_count": 2,
   "metadata": {},
   "outputs": [],
   "source": [
    "from dotenv import load_dotenv\n",
    "\n",
    "# Cargar variables de entorno desde .env\n",
    "load_dotenv()\n",
    "\n",
    "# Acceder a la API key\n",
    "api_key = os.getenv(\"API_KEY\")\n",
    "openai.api_key = api_key"
   ]
  },
  {
   "cell_type": "markdown",
   "metadata": {},
   "source": [
    "# probando el pipeline paso a paso\n",
    "## Carga de metadatos de la BBDD\n",
    "\n",
    "Si el archivo.pickle existe en el directorio con los metadatos nos dice que ya existe, de lo contrario, los extrae de la bbdd. LA BASE DE DATOS DEBE ESTAR LEVANTADA "
   ]
  },
  {
   "cell_type": "code",
   "execution_count": 3,
   "metadata": {},
   "outputs": [
    {
     "name": "stdout",
     "output_type": "stream",
     "text": [
      "Archivo guardado: ../data/nlp_to_sql/dvdrental_simple_metadata.pickle\n",
      "Archivo guardado: ../data/nlp_to_sql/dvdrental_full_metadata.pickle\n",
      "\n",
      "Proceso de almacenamiento de metadatos para dvdrental completado.\n",
      "\n",
      "El archivo ya existe en: ../data/nlp_to_sql/pfmegrnargs_simple_metadata.pickle\n",
      "El archivo ya existe en: ../data/nlp_to_sql/pfmegrnargs_full_metadata.pickle\n",
      "\n",
      "Proceso de almacenamiento de metadatos para pfmegrnargs completado.\n",
      "\n"
     ]
    }
   ],
   "source": [
    "rental = {\n",
    "    'bbdd_name':'dvdrental', \n",
    "    'user'     :'postgres', \n",
    "    'password' :'123', \n",
    "    'host'     :'localhost', \n",
    "    'port'     :'5432'\n",
    "}\n",
    "\n",
    "rna_central = {\n",
    "    'bbdd_name': 'pfmegrnargs', \n",
    "    'user'     : 'reader', \n",
    "    'password' : 'NWDMCE5xdipIjRrp', \n",
    "    'host'     : 'hh-pgsql-public.ebi.ac.uk', \n",
    "    'port'     : '5433'\n",
    "}\n",
    "\n",
    "\n",
    "llm_to_pagila = LLMsToDataBase(**rental)\n",
    "llm_to_pagila.store_metadata_df_to_pickle()\n",
    "#llm_to_pagila.close_connection()\n",
    "\n",
    "\n",
    "llm_to_rna = LLMsToDataBase(**rna_central)\n",
    "llm_to_rna.store_metadata_df_to_pickle()\n",
    "#llm_to_rna.close_connection()\n"
   ]
  },
  {
   "cell_type": "code",
   "execution_count": 5,
   "metadata": {},
   "outputs": [
    {
     "data": {
      "text/html": [
       "<div>\n",
       "<style scoped>\n",
       "    .dataframe tbody tr th:only-of-type {\n",
       "        vertical-align: middle;\n",
       "    }\n",
       "\n",
       "    .dataframe tbody tr th {\n",
       "        vertical-align: top;\n",
       "    }\n",
       "\n",
       "    .dataframe thead th {\n",
       "        text-align: right;\n",
       "    }\n",
       "</style>\n",
       "<table border=\"1\" class=\"dataframe\">\n",
       "  <thead>\n",
       "    <tr style=\"text-align: right;\">\n",
       "      <th></th>\n",
       "      <th>metadata_str</th>\n",
       "      <th>md_str_tokens</th>\n",
       "      <th>embedding</th>\n",
       "    </tr>\n",
       "  </thead>\n",
       "  <tbody>\n",
       "    <tr>\n",
       "      <th>actor</th>\n",
       "      <td>{\"actor\": [\"actor_id\", \"first_name\", \"last_nam...</td>\n",
       "      <td>19</td>\n",
       "      <td>[-0.0329330638051033, -0.005584632977843285, 0...</td>\n",
       "    </tr>\n",
       "    <tr>\n",
       "      <th>store</th>\n",
       "      <td>{\"store\": [\"store_id\", \"manager_staff_id\", \"ad...</td>\n",
       "      <td>20</td>\n",
       "      <td>[-0.029232481494545937, 0.008416695520281792, ...</td>\n",
       "    </tr>\n",
       "    <tr>\n",
       "      <th>address</th>\n",
       "      <td>{\"address\": [\"address_id\", \"address\", \"address...</td>\n",
       "      <td>32</td>\n",
       "      <td>[-0.027407445013523102, 0.02479003369808197, 0...</td>\n",
       "    </tr>\n",
       "    <tr>\n",
       "      <th>city</th>\n",
       "      <td>{\"city\": [\"city_id\", \"city\", \"country_id\", \"la...</td>\n",
       "      <td>18</td>\n",
       "      <td>[-0.011713930405676365, 0.020075011998414993, ...</td>\n",
       "    </tr>\n",
       "    <tr>\n",
       "      <th>country</th>\n",
       "      <td>{\"country\": [\"country_id\", \"country\", \"last_up...</td>\n",
       "      <td>14</td>\n",
       "      <td>[-0.0247060414403677, 0.011358940042555332, 0....</td>\n",
       "    </tr>\n",
       "  </tbody>\n",
       "</table>\n",
       "</div>"
      ],
      "text/plain": [
       "                                              metadata_str md_str_tokens  \\\n",
       "actor    {\"actor\": [\"actor_id\", \"first_name\", \"last_nam...            19   \n",
       "store    {\"store\": [\"store_id\", \"manager_staff_id\", \"ad...            20   \n",
       "address  {\"address\": [\"address_id\", \"address\", \"address...            32   \n",
       "city     {\"city\": [\"city_id\", \"city\", \"country_id\", \"la...            18   \n",
       "country  {\"country\": [\"country_id\", \"country\", \"last_up...            14   \n",
       "\n",
       "                                                 embedding  \n",
       "actor    [-0.0329330638051033, -0.005584632977843285, 0...  \n",
       "store    [-0.029232481494545937, 0.008416695520281792, ...  \n",
       "address  [-0.027407445013523102, 0.02479003369808197, 0...  \n",
       "city     [-0.011713930405676365, 0.020075011998414993, ...  \n",
       "country  [-0.0247060414403677, 0.011358940042555332, 0....  "
      ]
     },
     "metadata": {},
     "output_type": "display_data"
    },
    {
     "data": {
      "text/html": [
       "<div>\n",
       "<style scoped>\n",
       "    .dataframe tbody tr th:only-of-type {\n",
       "        vertical-align: middle;\n",
       "    }\n",
       "\n",
       "    .dataframe tbody tr th {\n",
       "        vertical-align: top;\n",
       "    }\n",
       "\n",
       "    .dataframe thead th {\n",
       "        text-align: right;\n",
       "    }\n",
       "</style>\n",
       "<table border=\"1\" class=\"dataframe\">\n",
       "  <thead>\n",
       "    <tr style=\"text-align: right;\">\n",
       "      <th></th>\n",
       "      <th>metadata_str</th>\n",
       "      <th>md_str_tokens</th>\n",
       "      <th>embedding</th>\n",
       "    </tr>\n",
       "  </thead>\n",
       "  <tbody>\n",
       "    <tr>\n",
       "      <th>actor</th>\n",
       "      <td>table_name:actor\\n{\"col_name\": \"actor_id\", \"ty...</td>\n",
       "      <td>138</td>\n",
       "      <td>[-0.003070953767746687, 0.0058361561968922615,...</td>\n",
       "    </tr>\n",
       "    <tr>\n",
       "      <th>store</th>\n",
       "      <td>table_name:store\\n{\"col_name\": \"store_id\", \"ty...</td>\n",
       "      <td>139</td>\n",
       "      <td>[-0.006375625263899565, 0.021333562210202217, ...</td>\n",
       "    </tr>\n",
       "    <tr>\n",
       "      <th>address</th>\n",
       "      <td>table_name:address\\n{\"col_name\": \"address_id\",...</td>\n",
       "      <td>271</td>\n",
       "      <td>[-0.0031046976801007986, 0.025939086452126503,...</td>\n",
       "    </tr>\n",
       "    <tr>\n",
       "      <th>city</th>\n",
       "      <td>table_name:city\\n{\"col_name\": \"city_id\", \"type...</td>\n",
       "      <td>137</td>\n",
       "      <td>[0.009170434437692165, 0.023855293169617653, 0...</td>\n",
       "    </tr>\n",
       "    <tr>\n",
       "      <th>country</th>\n",
       "      <td>table_name:country\\n{\"col_name\": \"country_id\",...</td>\n",
       "      <td>103</td>\n",
       "      <td>[0.00015362424892373383, 0.014917444437742233,...</td>\n",
       "    </tr>\n",
       "  </tbody>\n",
       "</table>\n",
       "</div>"
      ],
      "text/plain": [
       "                                              metadata_str md_str_tokens  \\\n",
       "actor    table_name:actor\\n{\"col_name\": \"actor_id\", \"ty...           138   \n",
       "store    table_name:store\\n{\"col_name\": \"store_id\", \"ty...           139   \n",
       "address  table_name:address\\n{\"col_name\": \"address_id\",...           271   \n",
       "city     table_name:city\\n{\"col_name\": \"city_id\", \"type...           137   \n",
       "country  table_name:country\\n{\"col_name\": \"country_id\",...           103   \n",
       "\n",
       "                                                 embedding  \n",
       "actor    [-0.003070953767746687, 0.0058361561968922615,...  \n",
       "store    [-0.006375625263899565, 0.021333562210202217, ...  \n",
       "address  [-0.0031046976801007986, 0.025939086452126503,...  \n",
       "city     [0.009170434437692165, 0.023855293169617653, 0...  \n",
       "country  [0.00015362424892373383, 0.014917444437742233,...  "
      ]
     },
     "metadata": {},
     "output_type": "display_data"
    }
   ],
   "source": [
    "data_path = '../data/nlp_to_sql/'\n",
    "\n",
    "simple_md_df = pd.read_pickle(data_path + 'dvdrental_simple_metadata.pickle')   # pfmegrnargs   # pagila\n",
    "full_md_df = pd.read_pickle(data_path + 'dvdrental_full_metadata.pickle')\n",
    "\n",
    "display(simple_md_df.head())\n",
    "display(full_md_df.head())"
   ]
  },
  {
   "cell_type": "code",
   "execution_count": 6,
   "metadata": {},
   "outputs": [
    {
     "name": "stdout",
     "output_type": "stream",
     "text": [
      "El numero de tablas que tiene la actual base de datos es: \n",
      "15 15\n"
     ]
    }
   ],
   "source": [
    "print('El numero de tablas que tiene la actual base de datos es: ')\n",
    "print(len(simple_md_df), len(full_md_df))"
   ]
  },
  {
   "cell_type": "markdown",
   "metadata": {},
   "source": [
    "## Buscando metadatos más similares a una consulta"
   ]
  },
  {
   "cell_type": "code",
   "execution_count": 7,
   "metadata": {},
   "outputs": [
    {
     "data": {
      "text/html": [
       "<div>\n",
       "<style scoped>\n",
       "    .dataframe tbody tr th:only-of-type {\n",
       "        vertical-align: middle;\n",
       "    }\n",
       "\n",
       "    .dataframe tbody tr th {\n",
       "        vertical-align: top;\n",
       "    }\n",
       "\n",
       "    .dataframe thead th {\n",
       "        text-align: right;\n",
       "    }\n",
       "</style>\n",
       "<table border=\"1\" class=\"dataframe\">\n",
       "  <thead>\n",
       "    <tr style=\"text-align: right;\">\n",
       "      <th></th>\n",
       "      <th>metadata_str</th>\n",
       "      <th>md_str_tokens</th>\n",
       "      <th>similarity</th>\n",
       "      <th>embedding</th>\n",
       "      <th>token_cumsum</th>\n",
       "    </tr>\n",
       "  </thead>\n",
       "  <tbody>\n",
       "    <tr>\n",
       "      <th>film_actor</th>\n",
       "      <td>{\"film_actor\": [\"actor_id\", \"film_id\", \"last_u...</td>\n",
       "      <td>16</td>\n",
       "      <td>0.732587</td>\n",
       "      <td>[-0.033507075160741806, 0.003144766902551055, ...</td>\n",
       "      <td>16</td>\n",
       "    </tr>\n",
       "    <tr>\n",
       "      <th>film</th>\n",
       "      <td>{\"film\": [\"film_id\", \"title\", \"description\", \"...</td>\n",
       "      <td>53</td>\n",
       "      <td>0.732268</td>\n",
       "      <td>[-0.010311612859368324, 0.012414505705237389, ...</td>\n",
       "      <td>69</td>\n",
       "    </tr>\n",
       "    <tr>\n",
       "      <th>actor</th>\n",
       "      <td>{\"actor\": [\"actor_id\", \"first_name\", \"last_nam...</td>\n",
       "      <td>19</td>\n",
       "      <td>0.725583</td>\n",
       "      <td>[-0.0329330638051033, -0.005584632977843285, 0...</td>\n",
       "      <td>88</td>\n",
       "    </tr>\n",
       "    <tr>\n",
       "      <th>film_category</th>\n",
       "      <td>{\"film_category\": [\"film_id\", \"category_id\", \"...</td>\n",
       "      <td>16</td>\n",
       "      <td>0.699847</td>\n",
       "      <td>[-0.02557847648859024, 0.014861471951007843, -...</td>\n",
       "      <td>104</td>\n",
       "    </tr>\n",
       "    <tr>\n",
       "      <th>inventory</th>\n",
       "      <td>{\"inventory\": [\"inventory_id\", \"film_id\", \"sto...</td>\n",
       "      <td>19</td>\n",
       "      <td>0.691929</td>\n",
       "      <td>[-0.017722778022289276, 0.0021708004642277956,...</td>\n",
       "      <td>123</td>\n",
       "    </tr>\n",
       "    <tr>\n",
       "      <th>language</th>\n",
       "      <td>{\"language\": [\"language_id\", \"name\", \"last_upd...</td>\n",
       "      <td>14</td>\n",
       "      <td>0.686570</td>\n",
       "      <td>[-0.02983446605503559, 0.018869545310735703, 0...</td>\n",
       "      <td>137</td>\n",
       "    </tr>\n",
       "    <tr>\n",
       "      <th>rental</th>\n",
       "      <td>{\"rental\": [\"rental_id\", \"rental_date\", \"inven...</td>\n",
       "      <td>34</td>\n",
       "      <td>0.683688</td>\n",
       "      <td>[-0.02543514594435692, 0.002907260088250041, 0...</td>\n",
       "      <td>171</td>\n",
       "    </tr>\n",
       "    <tr>\n",
       "      <th>staff</th>\n",
       "      <td>{\"staff\": [\"staff_id\", \"first_name\", \"last_nam...</td>\n",
       "      <td>42</td>\n",
       "      <td>0.676197</td>\n",
       "      <td>[-0.01896057464182377, 0.008822894655168056, -...</td>\n",
       "      <td>213</td>\n",
       "    </tr>\n",
       "    <tr>\n",
       "      <th>category</th>\n",
       "      <td>{\"category\": [\"category_id\", \"name\", \"last_upd...</td>\n",
       "      <td>14</td>\n",
       "      <td>0.674468</td>\n",
       "      <td>[-0.030227964743971825, 0.017394820228219032, ...</td>\n",
       "      <td>227</td>\n",
       "    </tr>\n",
       "    <tr>\n",
       "      <th>address</th>\n",
       "      <td>{\"address\": [\"address_id\", \"address\", \"address...</td>\n",
       "      <td>32</td>\n",
       "      <td>0.674441</td>\n",
       "      <td>[-0.027407445013523102, 0.02479003369808197, 0...</td>\n",
       "      <td>259</td>\n",
       "    </tr>\n",
       "    <tr>\n",
       "      <th>city</th>\n",
       "      <td>{\"city\": [\"city_id\", \"city\", \"country_id\", \"la...</td>\n",
       "      <td>18</td>\n",
       "      <td>0.668414</td>\n",
       "      <td>[-0.011713930405676365, 0.020075011998414993, ...</td>\n",
       "      <td>277</td>\n",
       "    </tr>\n",
       "    <tr>\n",
       "      <th>country</th>\n",
       "      <td>{\"country\": [\"country_id\", \"country\", \"last_up...</td>\n",
       "      <td>14</td>\n",
       "      <td>0.666718</td>\n",
       "      <td>[-0.0247060414403677, 0.011358940042555332, 0....</td>\n",
       "      <td>291</td>\n",
       "    </tr>\n",
       "    <tr>\n",
       "      <th>payment</th>\n",
       "      <td>{\"payment\": [\"payment_id\", \"customer_id\", \"sta...</td>\n",
       "      <td>27</td>\n",
       "      <td>0.666016</td>\n",
       "      <td>[-0.028927892446517944, 0.015849225223064423, ...</td>\n",
       "      <td>318</td>\n",
       "    </tr>\n",
       "    <tr>\n",
       "      <th>customer</th>\n",
       "      <td>{\"customer\": [\"customer_id\", \"store_id\", \"firs...</td>\n",
       "      <td>41</td>\n",
       "      <td>0.662540</td>\n",
       "      <td>[-0.025878580287098885, 0.009969276376068592, ...</td>\n",
       "      <td>359</td>\n",
       "    </tr>\n",
       "    <tr>\n",
       "      <th>store</th>\n",
       "      <td>{\"store\": [\"store_id\", \"manager_staff_id\", \"ad...</td>\n",
       "      <td>20</td>\n",
       "      <td>0.653663</td>\n",
       "      <td>[-0.029232481494545937, 0.008416695520281792, ...</td>\n",
       "      <td>379</td>\n",
       "    </tr>\n",
       "  </tbody>\n",
       "</table>\n",
       "</div>"
      ],
      "text/plain": [
       "                                                    metadata_str  \\\n",
       "film_actor     {\"film_actor\": [\"actor_id\", \"film_id\", \"last_u...   \n",
       "film           {\"film\": [\"film_id\", \"title\", \"description\", \"...   \n",
       "actor          {\"actor\": [\"actor_id\", \"first_name\", \"last_nam...   \n",
       "film_category  {\"film_category\": [\"film_id\", \"category_id\", \"...   \n",
       "inventory      {\"inventory\": [\"inventory_id\", \"film_id\", \"sto...   \n",
       "language       {\"language\": [\"language_id\", \"name\", \"last_upd...   \n",
       "rental         {\"rental\": [\"rental_id\", \"rental_date\", \"inven...   \n",
       "staff          {\"staff\": [\"staff_id\", \"first_name\", \"last_nam...   \n",
       "category       {\"category\": [\"category_id\", \"name\", \"last_upd...   \n",
       "address        {\"address\": [\"address_id\", \"address\", \"address...   \n",
       "city           {\"city\": [\"city_id\", \"city\", \"country_id\", \"la...   \n",
       "country        {\"country\": [\"country_id\", \"country\", \"last_up...   \n",
       "payment        {\"payment\": [\"payment_id\", \"customer_id\", \"sta...   \n",
       "customer       {\"customer\": [\"customer_id\", \"store_id\", \"firs...   \n",
       "store          {\"store\": [\"store_id\", \"manager_staff_id\", \"ad...   \n",
       "\n",
       "              md_str_tokens  similarity  \\\n",
       "film_actor               16    0.732587   \n",
       "film                     53    0.732268   \n",
       "actor                    19    0.725583   \n",
       "film_category            16    0.699847   \n",
       "inventory                19    0.691929   \n",
       "language                 14    0.686570   \n",
       "rental                   34    0.683688   \n",
       "staff                    42    0.676197   \n",
       "category                 14    0.674468   \n",
       "address                  32    0.674441   \n",
       "city                     18    0.668414   \n",
       "country                  14    0.666718   \n",
       "payment                  27    0.666016   \n",
       "customer                 41    0.662540   \n",
       "store                    20    0.653663   \n",
       "\n",
       "                                                       embedding token_cumsum  \n",
       "film_actor     [-0.033507075160741806, 0.003144766902551055, ...           16  \n",
       "film           [-0.010311612859368324, 0.012414505705237389, ...           69  \n",
       "actor          [-0.0329330638051033, -0.005584632977843285, 0...           88  \n",
       "film_category  [-0.02557847648859024, 0.014861471951007843, -...          104  \n",
       "inventory      [-0.017722778022289276, 0.0021708004642277956,...          123  \n",
       "language       [-0.02983446605503559, 0.018869545310735703, 0...          137  \n",
       "rental         [-0.02543514594435692, 0.002907260088250041, 0...          171  \n",
       "staff          [-0.01896057464182377, 0.008822894655168056, -...          213  \n",
       "category       [-0.030227964743971825, 0.017394820228219032, ...          227  \n",
       "address        [-0.027407445013523102, 0.02479003369808197, 0...          259  \n",
       "city           [-0.011713930405676365, 0.020075011998414993, ...          277  \n",
       "country        [-0.0247060414403677, 0.011358940042555332, 0....          291  \n",
       "payment        [-0.028927892446517944, 0.015849225223064423, ...          318  \n",
       "customer       [-0.025878580287098885, 0.009969276376068592, ...          359  \n",
       "store          [-0.029232481494545937, 0.008416695520281792, ...          379  "
      ]
     },
     "metadata": {},
     "output_type": "display_data"
    },
    {
     "data": {
      "text/html": [
       "<div>\n",
       "<style scoped>\n",
       "    .dataframe tbody tr th:only-of-type {\n",
       "        vertical-align: middle;\n",
       "    }\n",
       "\n",
       "    .dataframe tbody tr th {\n",
       "        vertical-align: top;\n",
       "    }\n",
       "\n",
       "    .dataframe thead th {\n",
       "        text-align: right;\n",
       "    }\n",
       "</style>\n",
       "<table border=\"1\" class=\"dataframe\">\n",
       "  <thead>\n",
       "    <tr style=\"text-align: right;\">\n",
       "      <th></th>\n",
       "      <th>metadata_str</th>\n",
       "      <th>md_str_tokens</th>\n",
       "      <th>similarity</th>\n",
       "      <th>embedding</th>\n",
       "      <th>token_cumsum</th>\n",
       "    </tr>\n",
       "  </thead>\n",
       "  <tbody>\n",
       "    <tr>\n",
       "      <th>actor</th>\n",
       "      <td>table_name:actor\\n{\"col_name\": \"actor_id\", \"ty...</td>\n",
       "      <td>138</td>\n",
       "      <td>0.742149</td>\n",
       "      <td>[-0.003070953767746687, 0.0058361561968922615,...</td>\n",
       "      <td>138</td>\n",
       "    </tr>\n",
       "    <tr>\n",
       "      <th>film_actor</th>\n",
       "      <td>table_name:film_actor\\n{\"col_name\": \"actor_id\"...</td>\n",
       "      <td>107</td>\n",
       "      <td>0.740670</td>\n",
       "      <td>[-0.005460824351757765, 0.010005425661802292, ...</td>\n",
       "      <td>245</td>\n",
       "    </tr>\n",
       "    <tr>\n",
       "      <th>film</th>\n",
       "      <td>table_name:film\\n{\"col_name\": \"film_id\", \"type...</td>\n",
       "      <td>443</td>\n",
       "      <td>0.723553</td>\n",
       "      <td>[-0.0006646884721703827, 0.02408052608370781, ...</td>\n",
       "      <td>688</td>\n",
       "    </tr>\n",
       "    <tr>\n",
       "      <th>film_category</th>\n",
       "      <td>table_name:film_category\\n{\"col_name\": \"film_i...</td>\n",
       "      <td>107</td>\n",
       "      <td>0.718267</td>\n",
       "      <td>[0.0017928910674527287, 0.02142120897769928, -...</td>\n",
       "      <td>795</td>\n",
       "    </tr>\n",
       "    <tr>\n",
       "      <th>inventory</th>\n",
       "      <td>table_name:inventory\\n{\"col_name\": \"inventory_...</td>\n",
       "      <td>138</td>\n",
       "      <td>0.709335</td>\n",
       "      <td>[0.00014501469559036195, 0.015438942238688469,...</td>\n",
       "      <td>933</td>\n",
       "    </tr>\n",
       "  </tbody>\n",
       "</table>\n",
       "</div>"
      ],
      "text/plain": [
       "                                                    metadata_str  \\\n",
       "actor          table_name:actor\\n{\"col_name\": \"actor_id\", \"ty...   \n",
       "film_actor     table_name:film_actor\\n{\"col_name\": \"actor_id\"...   \n",
       "film           table_name:film\\n{\"col_name\": \"film_id\", \"type...   \n",
       "film_category  table_name:film_category\\n{\"col_name\": \"film_i...   \n",
       "inventory      table_name:inventory\\n{\"col_name\": \"inventory_...   \n",
       "\n",
       "              md_str_tokens  similarity  \\\n",
       "actor                   138    0.742149   \n",
       "film_actor              107    0.740670   \n",
       "film                    443    0.723553   \n",
       "film_category           107    0.718267   \n",
       "inventory               138    0.709335   \n",
       "\n",
       "                                                       embedding token_cumsum  \n",
       "actor          [-0.003070953767746687, 0.0058361561968922615,...          138  \n",
       "film_actor     [-0.005460824351757765, 0.010005425661802292, ...          245  \n",
       "film           [-0.0006646884721703827, 0.02408052608370781, ...          688  \n",
       "film_category  [0.0017928910674527287, 0.02142120897769928, -...          795  \n",
       "inventory      [0.00014501469559036195, 0.015438942238688469,...          933  "
      ]
     },
     "metadata": {},
     "output_type": "display_data"
    }
   ],
   "source": [
    "# consulta facil - medio\n",
    "consulta_pagila = '''\n",
    "dame los nombres de los actores y actrices que hayan participado en \n",
    "peliculas con una duracion superior 180 minutos. incluye tambien la \n",
    "duración exacta de la pelicula\n",
    "'''\n",
    "# consulta facil\n",
    "consulta_pagila_01 = '''cuantas peliculas tienen la duración maxima y cuanta es esa duración'''\n",
    "\n",
    "# consulta dificil media\n",
    "consulta_pagila_02 = '''Los nombres de los actores que hayan participado en más de 3 peliculas, \\\n",
    "                        cuyo nombre empieze por una vocal, y que las peliculas duren más de 180 minutos'''\n",
    "\n",
    "#consulta dificil\n",
    "consulta_pagila_03 = '''¿Que precio tienen las peliculas en las que ha trabajado el actor o actores con más películas, \\\n",
    "                        devuelve el nombre de las películas y el actor o actores que hayan trabajado en ellas?'''\n",
    "\n",
    "# consulta_rna_central_1 = \"Muestra todas las secuencias de ARN que tienen una longitud mayor a 200 nucleótidos.\"\n",
    "# consulta_rna_central_2 =  \"Encuentra las entradas de ARN que han sido identificadas en organismos específicos como 'Homo sapiens'.\"\n",
    "# consulta_rna_central_3 = \"Lista los estudios que han citado secuencias de ARN particulares más de 50 veces.\"\n",
    "# consulta_rna_central_4 =  \"Obtén los nombres de los investigadores que han contribuido con más de 10 secuencias de ARN a la base de datos.\"\n",
    "# consulta_rna_central_5 = \"Muestra las secuencias de ARN que se han descubierto en el último año.\"\n",
    "\n",
    "token_limit = 1000\n",
    "n_tablas = None\n",
    "\n",
    "most_similar_md_simple = LLMsToDataBase.search_most_similar_metadata(\n",
    "    prompt= consulta_pagila, \n",
    "    metadata=simple_md_df, \n",
    "    n_resultados=n_tablas, \n",
    "    lim_tokens=token_limit)\n",
    "\n",
    "most_similar_md_full = LLMsToDataBase.search_most_similar_metadata(\n",
    "    prompt= consulta_pagila, \n",
    "    metadata=full_md_df, \n",
    "    n_resultados=n_tablas, \n",
    "    lim_tokens=token_limit )\n",
    "\n",
    "display(most_similar_md_simple)\n",
    "display(most_similar_md_full)"
   ]
  },
  {
   "cell_type": "code",
   "execution_count": null,
   "metadata": {},
   "outputs": [],
   "source": [
    "print(len(most_similar_md_simple))\n",
    "print(len(most_similar_md_full))"
   ]
  },
  {
   "cell_type": "code",
   "execution_count": null,
   "metadata": {},
   "outputs": [],
   "source": [
    "simple_md_str = LLMsToDataBase.get_string_from_metadata_df(most_similar_md_simple)\n",
    "full_md_str = LLMsToDataBase.get_string_from_metadata_df(most_similar_md_full)\n",
    "\n",
    "print('SIMPLE METADATA')\n",
    "print(simple_md_str)\n",
    "print('\\n')\n",
    "print('FULL METADATA')\n",
    "print(full_md_str)"
   ]
  },
  {
   "cell_type": "markdown",
   "metadata": {},
   "source": [
    "# Probando el agente\n",
    "\n",
    "## Lo probamos en dos consultas"
   ]
  },
  {
   "cell_type": "code",
   "execution_count": null,
   "metadata": {},
   "outputs": [],
   "source": [
    "consulta ='''\n",
    "¿Que precio tienen las peliculas en las que ha trabajado el actor o actores con más películas, \\\n",
    "devuelve el nombre de las películas y el actor o actores que hayan trabajado en ellas?\n",
    "'''\n",
    "\n",
    "agent = SQLAgent(**rental)\n",
    "# print('conexion')\n",
    "# print(agent.bbdd_name)\n",
    "# print(agent.historico.contador_interacciones)\n",
    "\n",
    "tabla_resultado, codigo_sql = agent.nlp_to_sql(consulta_nlp=consulta, metadata_token_limit= 1000)"
   ]
  },
  {
   "cell_type": "markdown",
   "metadata": {},
   "source": [
    "## Probando el metodo 'continuar_conversacion'\n",
    "\n",
    "### Con una nueva consulta"
   ]
  },
  {
   "cell_type": "code",
   "execution_count": null,
   "metadata": {},
   "outputs": [],
   "source": [
    "continuar = '''dame los nombres de los actores y actrices que hayan participado en \n",
    "peliculas con una duracion superior 180 minutos. incluye tambien la \n",
    "duración exacta de la pelicula'''\n",
    "\n",
    "cont, nueva_consulta = agent.continuar_conversando(\n",
    "    usuario=continuar, \n",
    "    codigo_sql_ejecutado=codigo_sql, \n",
    "    tabla_consulta_anterior=tabla_resultado\n",
    ")\n",
    "\n",
    "print(cont, nueva_consulta)"
   ]
  },
  {
   "cell_type": "markdown",
   "metadata": {},
   "source": [
    "### Con una duda sobre la consulta anterior"
   ]
  },
  {
   "cell_type": "code",
   "execution_count": null,
   "metadata": {},
   "outputs": [],
   "source": [
    "duda = '''Cuales de los actores mencionados, tienen un nombre que empieza por una vocal'''\n",
    "\n",
    "cont, nueva_consulta = agent.continuar_conversando(\n",
    "    usuario= duda, \n",
    "    codigo_sql_ejecutado= '', \n",
    "    tabla_consulta_anterior= tabla_resultado\n",
    ")\n",
    "\n",
    "print(cont, nueva_consulta)"
   ]
  },
  {
   "cell_type": "markdown",
   "metadata": {},
   "source": [
    "### Texto random"
   ]
  },
  {
   "cell_type": "code",
   "execution_count": null,
   "metadata": {},
   "outputs": [],
   "source": [
    "duda = '''como se hacen los macarrones?'''\n",
    "\n",
    "cont, nueva_consulta = agent.continuar_conversando(\n",
    "    usuario=duda, \n",
    "    codigo_sql_ejecutado=codigo_sql, \n",
    "    tabla_consulta_anterior=tabla_resultado\n",
    ")\n",
    "\n",
    "print(cont, nueva_consulta)"
   ]
  },
  {
   "cell_type": "markdown",
   "metadata": {},
   "source": [
    "## añadimos una nueva consulta"
   ]
  },
  {
   "cell_type": "code",
   "execution_count": null,
   "metadata": {},
   "outputs": [],
   "source": [
    "consulta ='''dame los nombres de los actores y actrices que hayan participado en \n",
    "peliculas con una duracion superior 180 minutos. incluye tambien la \n",
    "duración exacta de la pelicula'''\n",
    "\n",
    "#agent = SQLAgent(**pagila)\n",
    "# print('conexion')\n",
    "# print(agent.bbdd_name)\n",
    "# print(agent.historico.contador_interacciones)\n",
    "\n",
    "tabla_resultado, codigo_sql = agent.nlp_to_sql(consulta_nlp=consulta, metadata_token_limit= 1000)\n",
    "agent.close_connection()\n",
    "# print('connexion cerrada')\n",
    "\n",
    "# # simular_respuesta_generativa(tabla_resultado)"
   ]
  },
  {
   "cell_type": "markdown",
   "metadata": {},
   "source": [
    "## generar informe"
   ]
  },
  {
   "cell_type": "code",
   "execution_count": null,
   "metadata": {},
   "outputs": [],
   "source": [
    "informe = agent.informe_resultado(\n",
    "    consulta_usuario=consulta, \n",
    "    codigo_sql= codigo_sql, \n",
    "    tabla_texto= tabla_resultado, \n",
    "    max_tokens_respuesta= 1000\n",
    ")\n",
    "\n",
    "simular_respuesta_generativa(informe)"
   ]
  },
  {
   "cell_type": "code",
   "execution_count": null,
   "metadata": {},
   "outputs": [],
   "source": [
    "print(num_tokens_from_string(informe))"
   ]
  },
  {
   "cell_type": "markdown",
   "metadata": {},
   "source": [
    "## Probando la duda sobre consutla anterior"
   ]
  },
  {
   "cell_type": "code",
   "execution_count": null,
   "metadata": {},
   "outputs": [],
   "source": [
    "duda = '''de los actores mencionados, dame los nombres de cuyos apellidos empiezen por una vocal'''\n",
    "\n",
    "respuesta_duda = agent.pregunta_sobre_consulta_anterior(\n",
    "    usuario= duda, \n",
    "    tabla_consulta_anterior=None, # le podemos pasar la tabla o no, lo más segura es pasarla pero tambien es más costoso \n",
    "    max_tokens_historico= 1500, \n",
    "    max_tokens_respuesta=300\n",
    ")\n",
    "\n",
    "\n",
    "print(respuesta_duda)"
   ]
  },
  {
   "cell_type": "markdown",
   "metadata": {},
   "source": [
    "## Probando el historico\n",
    "\n",
    "### historico completo"
   ]
  },
  {
   "cell_type": "code",
   "execution_count": null,
   "metadata": {},
   "outputs": [],
   "source": [
    "print(agent.historico_completo.historico)\n",
    "num_tokens_from_string(agent.historico_completo.historico)"
   ]
  },
  {
   "cell_type": "markdown",
   "metadata": {},
   "source": [
    "### Historico simple\n",
    "\n",
    "Esto solo guarda las consultas del usuario y el informe generado por el LLM. Hay que tener en cuenta que en el flujo de dialogo real despues de una nueva consulta siempre se generará un informe por lo que siempre ira una respuesta después de una consulta del usuario"
   ]
  },
  {
   "cell_type": "code",
   "execution_count": null,
   "metadata": {},
   "outputs": [],
   "source": [
    "print(agent.historico.historico)"
   ]
  },
  {
   "cell_type": "markdown",
   "metadata": {},
   "source": [
    "## Historico estructurado\n",
    "\n",
    "Hay que tener en cuenta que se guarda la información estrucutrada cada vez que responde el LLM en este caso no ha sido así, por eso vemos la incoherencia en el indice o las llaves"
   ]
  },
  {
   "cell_type": "code",
   "execution_count": null,
   "metadata": {},
   "outputs": [
    {
     "ename": "",
     "evalue": "",
     "output_type": "error",
     "traceback": [
      "\u001b[1;31mThe Kernel crashed while executing code in the current cell or a previous cell. \n",
      "\u001b[1;31mPlease review the code in the cell(s) to identify a possible cause of the failure. \n",
      "\u001b[1;31mClick <a href='https://aka.ms/vscodeJupyterKernelCrash'>here</a> for more info. \n",
      "\u001b[1;31mView Jupyter <a href='command:jupyter.viewOutput'>log</a> for further details."
     ]
    }
   ],
   "source": [
    "for key, value in agent.historico_completo.info_consultas_estructurada.items():\n",
    "    print(key)\n",
    "    for n in value: \n",
    "        print(n)"
   ]
  },
  {
   "cell_type": "code",
   "execution_count": null,
   "metadata": {},
   "outputs": [],
   "source": []
  },
  {
   "cell_type": "code",
   "execution_count": null,
   "metadata": {},
   "outputs": [],
   "source": [
    "consulta ='''¿Que precio tienen las peliculas en las que ha trabajado el actor o actores con más películas, \\\n",
    "            devuelve el nombre de las películas y el actor o actores que hayan trabajado en ellas cuyos nombres empiezen por las primeras tres letras del abecedario?'''\n",
    "\n",
    "agent2 = SQLAgent(**pagila)\n",
    "# print('conexion')\n",
    "# print(agent.bbdd_name)\n",
    "# print(agent.historico.contador_interacciones)\n",
    "\n",
    "tabla_resultado, codigo_sql = agent2.nlp_to_sql(consulta_nlp=consulta, metadata_token_limit= 1000)\n",
    "agent.close_connection()"
   ]
  },
  {
   "cell_type": "code",
   "execution_count": null,
   "metadata": {},
   "outputs": [],
   "source": [
    "print(agent2.historico_completo.historico)"
   ]
  },
  {
   "cell_type": "code",
   "execution_count": null,
   "metadata": {},
   "outputs": [],
   "source": []
  },
  {
   "cell_type": "code",
   "execution_count": null,
   "metadata": {},
   "outputs": [],
   "source": []
  },
  {
   "cell_type": "markdown",
   "metadata": {},
   "source": [
    "## Le volvemos a pasar la tabla en formato texto al llm para que nos comente los resultado"
   ]
  },
  {
   "cell_type": "code",
   "execution_count": null,
   "metadata": {},
   "outputs": [],
   "source": []
  },
  {
   "cell_type": "code",
   "execution_count": null,
   "metadata": {},
   "outputs": [],
   "source": [
    "informe = LLMsToDataBase.informe_resultado(consulta_usuario= consulta_pagila_03, tabla_texto=tabla_resultado, max_tokens_respuesta=2000 )\n",
    "simular_respuesta_generativa(informe)"
   ]
  },
  {
   "cell_type": "code",
   "execution_count": null,
   "metadata": {},
   "outputs": [],
   "source": [
    "llm_to_pagila.close_connection()"
   ]
  },
  {
   "cell_type": "code",
   "execution_count": null,
   "metadata": {},
   "outputs": [],
   "source": [
    "from calcular_tokens import num_tokens_from_string\n",
    "\n",
    "print(num_tokens_from_string(informe))\n",
    "print(num_tokens_from_string(tabla_resultado))"
   ]
  },
  {
   "cell_type": "code",
   "execution_count": 1,
   "metadata": {},
   "outputs": [],
   "source": [
    "import numpy as np "
   ]
  },
  {
   "cell_type": "code",
   "execution_count": 8,
   "metadata": {},
   "outputs": [
    {
     "name": "stdout",
     "output_type": "stream",
     "text": [
      "historico990727.txt\n"
     ]
    }
   ],
   "source": [
    "nombre_historico = 'historico' + str(np.random.randint(low= 0, high= 1_000_000)) +'.txt'\n",
    "print(nombre_historico)"
   ]
  },
  {
   "cell_type": "code",
   "execution_count": null,
   "metadata": {},
   "outputs": [],
   "source": []
  }
 ],
 "metadata": {
  "kernelspec": {
   "display_name": "venv",
   "language": "python",
   "name": "python3"
  },
  "language_info": {
   "codemirror_mode": {
    "name": "ipython",
    "version": 3
   },
   "file_extension": ".py",
   "mimetype": "text/x-python",
   "name": "python",
   "nbconvert_exporter": "python",
   "pygments_lexer": "ipython3",
   "version": "3.9.11"
  }
 },
 "nbformat": 4,
 "nbformat_minor": 2
}
