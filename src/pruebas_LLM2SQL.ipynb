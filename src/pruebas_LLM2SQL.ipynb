{
 "cells": [
  {
   "cell_type": "code",
   "execution_count": null,
   "metadata": {},
   "outputs": [],
   "source": [
    "from LLMstoDataBase import LLMsToDataBase, SQLAgent\n",
    "from open_ai_utils import enviar_promt_chat_completions_mode, get_embedding, simular_respuesta_generativa\n",
    "from calcular_tokens import num_tokens_from_string, num_tokens_from_messages\n",
    "\n",
    "import warnings\n",
    "\n",
    "# Ignorar todos los warnings\n",
    "warnings.filterwarnings('ignore')\n",
    "\n",
    "import pandas as pd\n",
    "import openai\n",
    "import numpy as np\n",
    "import os"
   ]
  },
  {
   "cell_type": "code",
   "execution_count": null,
   "metadata": {},
   "outputs": [],
   "source": [
    "from dotenv import load_dotenv\n",
    "\n",
    "# Cargar variables de entorno desde .env\n",
    "load_dotenv()\n",
    "\n",
    "# Acceder a la API key\n",
    "api_key = os.getenv(\"API_KEY\")\n",
    "openai.api_key = api_key"
   ]
  },
  {
   "cell_type": "markdown",
   "metadata": {},
   "source": [
    "# probando el pipeline paso a paso\n",
    "## Carga de metadatos de la BBDD\n",
    "\n",
    "Si el archivo.pickle existe en el directorio con los metadatos nos dice que ya existe, de lo contrario, los extrae de la bbdd. LA BASE DE DATOS DEBE ESTAR LEVANTADA "
   ]
  },
  {
   "cell_type": "code",
   "execution_count": null,
   "metadata": {},
   "outputs": [],
   "source": [
    "pagila = {\n",
    "    'bbdd_name':'pagila', \n",
    "    'user'     :'postgres', \n",
    "    'password' :'123', \n",
    "    'host'     :'localhost', \n",
    "    'port'     :'5432'\n",
    "}\n",
    "\n",
    "rna_central = {\n",
    "    'bbdd_name': 'pfmegrnargs', \n",
    "    'user'     : 'reader', \n",
    "    'password' : 'NWDMCE5xdipIjRrp', \n",
    "    'host'     : 'hh-pgsql-public.ebi.ac.uk', \n",
    "    'port'     : '5433'\n",
    "}\n",
    "\n",
    "\n",
    "llm_to_pagila = LLMsToDataBase(**pagila)\n",
    "llm_to_pagila.store_metadata_df_to_pickle()\n",
    "#llm_to_pagila.close_connection()\n",
    "\n",
    "\n",
    "llm_to_rna = LLMsToDataBase(**rna_central)\n",
    "llm_to_rna.store_metadata_df_to_pickle()\n",
    "#llm_to_rna.close_connection()\n"
   ]
  },
  {
   "cell_type": "code",
   "execution_count": null,
   "metadata": {},
   "outputs": [],
   "source": [
    "data_path = '../data/nlp_to_sql/'\n",
    "\n",
    "simple_md_df = pd.read_pickle(data_path + 'pagila_simple_metadata.pickle')   # pfmegrnargs   # pagila\n",
    "full_md_df = pd.read_pickle(data_path + 'pagila_full_metadata.pickle')\n",
    "\n",
    "display(simple_md_df.head())\n",
    "display(full_md_df.head())"
   ]
  },
  {
   "cell_type": "code",
   "execution_count": null,
   "metadata": {},
   "outputs": [],
   "source": [
    "print('El numero de tablas que tiene la actual base de datos es: ')\n",
    "print(len(simple_md_df), len(full_md_df))"
   ]
  },
  {
   "cell_type": "markdown",
   "metadata": {},
   "source": [
    "## Buscando metadatos más similares a una consulta"
   ]
  },
  {
   "cell_type": "code",
   "execution_count": null,
   "metadata": {},
   "outputs": [],
   "source": [
    "# consulta facil - medio\n",
    "consulta_pagila = '''\n",
    "dame los nombres de los actores y actrices que hayan participado en \n",
    "peliculas con una duracion superior 180 minutos. incluye tambien la \n",
    "duración exacta de la pelicula\n",
    "'''\n",
    "# consulta facil\n",
    "consulta_pagila_01 = '''cuantas peliculas tienen la duración maxima y cuanta es esa duración'''\n",
    "\n",
    "# consulta dificil media\n",
    "consulta_pagila_02 = '''Los nombres de los actores que hayan participado en más de 3 peliculas, \\\n",
    "                        cuyo nombre empieze por una vocal, y que las peliculas duren más de 180 minutos'''\n",
    "\n",
    "#consulta dificil\n",
    "consulta_pagila_03 = '''¿Que precio tienen las peliculas en las que ha trabajado el actor o actores con más películas, \\\n",
    "                        devuelve el nombre de las películas y el actor o actores que hayan trabajado en ellas?'''\n",
    "\n",
    "# consulta_rna_central_1 = \"Muestra todas las secuencias de ARN que tienen una longitud mayor a 200 nucleótidos.\"\n",
    "# consulta_rna_central_2 =  \"Encuentra las entradas de ARN que han sido identificadas en organismos específicos como 'Homo sapiens'.\"\n",
    "# consulta_rna_central_3 = \"Lista los estudios que han citado secuencias de ARN particulares más de 50 veces.\"\n",
    "# consulta_rna_central_4 =  \"Obtén los nombres de los investigadores que han contribuido con más de 10 secuencias de ARN a la base de datos.\"\n",
    "# consulta_rna_central_5 = \"Muestra las secuencias de ARN que se han descubierto en el último año.\"\n",
    "\n",
    "token_limit = 1000\n",
    "n_tablas = None\n",
    "\n",
    "most_similar_md_simple = LLMsToDataBase.search_most_similar_metadata(\n",
    "    prompt= consulta_pagila, \n",
    "    metadata=simple_md_df, \n",
    "    n_resultados=n_tablas, \n",
    "    lim_tokens=token_limit)\n",
    "\n",
    "most_similar_md_full = LLMsToDataBase.search_most_similar_metadata(\n",
    "    prompt= consulta_pagila, \n",
    "    metadata=full_md_df, \n",
    "    n_resultados=n_tablas, \n",
    "    lim_tokens=token_limit )\n",
    "\n",
    "display(most_similar_md_simple)\n",
    "display(most_similar_md_full)"
   ]
  },
  {
   "cell_type": "code",
   "execution_count": null,
   "metadata": {},
   "outputs": [],
   "source": [
    "print(len(most_similar_md_simple))\n",
    "print(len(most_similar_md_full))"
   ]
  },
  {
   "cell_type": "code",
   "execution_count": null,
   "metadata": {},
   "outputs": [],
   "source": [
    "simple_md_str = LLMsToDataBase.get_string_from_metadata_df(most_similar_md_simple)\n",
    "full_md_str = LLMsToDataBase.get_string_from_metadata_df(most_similar_md_full)\n",
    "\n",
    "print('SIMPLE METADATA')\n",
    "print(simple_md_str)\n",
    "print('\\n')\n",
    "print('FULL METADATA')\n",
    "print(full_md_str)"
   ]
  },
  {
   "cell_type": "markdown",
   "metadata": {},
   "source": [
    "# Probando el agente\n",
    "\n",
    "## Lo probamos en dos consultas"
   ]
  },
  {
   "cell_type": "code",
   "execution_count": null,
   "metadata": {},
   "outputs": [],
   "source": [
    "consulta ='''\n",
    "¿Que precio tienen las peliculas en las que ha trabajado el actor o actores con más películas, \\\n",
    "devuelve el nombre de las películas y el actor o actores que hayan trabajado en ellas?\n",
    "'''\n",
    "\n",
    "agent = SQLAgent(**pagila)\n",
    "# print('conexion')\n",
    "# print(agent.bbdd_name)\n",
    "# print(agent.historico.contador_interacciones)\n",
    "\n",
    "tabla_resultado, codigo_sql = agent.nlp_to_sql(consulta_nlp=consulta, metadata_token_limit= 1000)"
   ]
  },
  {
   "cell_type": "markdown",
   "metadata": {},
   "source": [
    "## Probando el metodo 'continuar_conversacion'\n",
    "\n",
    "### Con una nueva consulta"
   ]
  },
  {
   "cell_type": "code",
   "execution_count": null,
   "metadata": {},
   "outputs": [],
   "source": [
    "continuar = '''dame los nombres de los actores y actrices que hayan participado en \n",
    "peliculas con una duracion superior 180 minutos. incluye tambien la \n",
    "duración exacta de la pelicula'''\n",
    "\n",
    "cont, nueva_consulta = agent.continuar_conversando(\n",
    "    usuario=continuar, \n",
    "    codigo_sql_ejecutado=codigo_sql, \n",
    "    tabla_consulta_anterior=tabla_resultado\n",
    ")\n",
    "\n",
    "print(cont, nueva_consulta)"
   ]
  },
  {
   "cell_type": "markdown",
   "metadata": {},
   "source": [
    "### Con una duda sobre la consulta anterior"
   ]
  },
  {
   "cell_type": "code",
   "execution_count": null,
   "metadata": {},
   "outputs": [],
   "source": [
    "duda = '''Cuales de los actores mencionados, tienen un nombre que empieza por una vocal'''\n",
    "\n",
    "cont, nueva_consulta = agent.continuar_conversando(\n",
    "    usuario= duda, \n",
    "    codigo_sql_ejecutado= '', \n",
    "    tabla_consulta_anterior= tabla_resultado\n",
    ")\n",
    "\n",
    "print(cont, nueva_consulta)"
   ]
  },
  {
   "cell_type": "markdown",
   "metadata": {},
   "source": [
    "### Texto random"
   ]
  },
  {
   "cell_type": "code",
   "execution_count": null,
   "metadata": {},
   "outputs": [],
   "source": [
    "duda = '''como se hacen los macarrones?'''\n",
    "\n",
    "cont, nueva_consulta = agent.continuar_conversando(\n",
    "    usuario=duda, \n",
    "    codigo_sql_ejecutado=codigo_sql, \n",
    "    tabla_consulta_anterior=tabla_resultado\n",
    ")\n",
    "\n",
    "print(cont, nueva_consulta)"
   ]
  },
  {
   "cell_type": "markdown",
   "metadata": {},
   "source": [
    "## añadimos una nueva consulta"
   ]
  },
  {
   "cell_type": "code",
   "execution_count": null,
   "metadata": {},
   "outputs": [],
   "source": [
    "consulta ='''dame los nombres de los actores y actrices que hayan participado en \n",
    "peliculas con una duracion superior 180 minutos. incluye tambien la \n",
    "duración exacta de la pelicula'''\n",
    "\n",
    "#agent = SQLAgent(**pagila)\n",
    "# print('conexion')\n",
    "# print(agent.bbdd_name)\n",
    "# print(agent.historico.contador_interacciones)\n",
    "\n",
    "tabla_resultado, codigo_sql = agent.nlp_to_sql(consulta_nlp=consulta, metadata_token_limit= 1000)\n",
    "agent.close_connection()\n",
    "# print('connexion cerrada')\n",
    "\n",
    "# # simular_respuesta_generativa(tabla_resultado)"
   ]
  },
  {
   "cell_type": "markdown",
   "metadata": {},
   "source": [
    "## generar informe"
   ]
  },
  {
   "cell_type": "code",
   "execution_count": null,
   "metadata": {},
   "outputs": [],
   "source": [
    "informe = agent.informe_resultado(\n",
    "    consulta_usuario=consulta, \n",
    "    codigo_sql= codigo_sql, \n",
    "    tabla_texto= tabla_resultado, \n",
    "    max_tokens_respuesta= 1000\n",
    ")\n",
    "\n",
    "simular_respuesta_generativa(informe)"
   ]
  },
  {
   "cell_type": "code",
   "execution_count": null,
   "metadata": {},
   "outputs": [],
   "source": [
    "print(num_tokens_from_string(informe))"
   ]
  },
  {
   "cell_type": "markdown",
   "metadata": {},
   "source": [
    "## Probando la duda sobre consutla anterior"
   ]
  },
  {
   "cell_type": "code",
   "execution_count": null,
   "metadata": {},
   "outputs": [],
   "source": [
    "duda = '''de los actores mencionados, dame los nombres de cuyos apellidos empiezen por una vocal'''\n",
    "\n",
    "respuesta_duda = agent.pregunta_sobre_consulta_anterior(\n",
    "    usuario= duda, \n",
    "    tabla_consulta_anterior=None, # le podemos pasar la tabla o no, lo más segura es pasarla pero tambien es más costoso \n",
    "    max_tokens_historico= 1500, \n",
    "    max_tokens_respuesta=300\n",
    ")\n",
    "\n",
    "\n",
    "print(respuesta_duda)"
   ]
  },
  {
   "cell_type": "markdown",
   "metadata": {},
   "source": [
    "## Probando el historico\n",
    "\n",
    "### historico completo"
   ]
  },
  {
   "cell_type": "code",
   "execution_count": null,
   "metadata": {},
   "outputs": [],
   "source": [
    "print(agent.historico_completo.historico)\n",
    "num_tokens_from_string(agent.historico_completo.historico)"
   ]
  },
  {
   "cell_type": "markdown",
   "metadata": {},
   "source": [
    "### Historico simple\n",
    "\n",
    "Esto solo guarda las consultas del usuario y el informe generado por el LLM. Hay que tener en cuenta que en el flujo de dialogo real despues de una nueva consulta siempre se generará un informe por lo que siempre ira una respuesta después de una consulta del usuario"
   ]
  },
  {
   "cell_type": "code",
   "execution_count": null,
   "metadata": {},
   "outputs": [],
   "source": [
    "print(agent.historico.historico)"
   ]
  },
  {
   "cell_type": "markdown",
   "metadata": {},
   "source": [
    "## Historico estructurado\n",
    "\n",
    "Hay que tener en cuenta que se guarda la información estrucutrada cada vez que responde el LLM en este caso no ha sido así, por eso vemos la incoherencia en el indice o las llaves"
   ]
  },
  {
   "cell_type": "code",
   "execution_count": null,
   "metadata": {},
   "outputs": [],
   "source": [
    "for key, value in agent.historico_completo.info_consultas_estructurada.items():\n",
    "    print(key)\n",
    "    for n in value: \n",
    "        print(n)"
   ]
  },
  {
   "cell_type": "code",
   "execution_count": null,
   "metadata": {},
   "outputs": [],
   "source": []
  },
  {
   "cell_type": "code",
   "execution_count": null,
   "metadata": {},
   "outputs": [],
   "source": [
    "consulta ='''¿Que precio tienen las peliculas en las que ha trabajado el actor o actores con más películas, \\\n",
    "            devuelve el nombre de las películas y el actor o actores que hayan trabajado en ellas cuyos nombres empiezen por las primeras tres letras del abecedario?'''\n",
    "\n",
    "agent2 = SQLAgent(**pagila)\n",
    "# print('conexion')\n",
    "# print(agent.bbdd_name)\n",
    "# print(agent.historico.contador_interacciones)\n",
    "\n",
    "tabla_resultado, codigo_sql = agent2.nlp_to_sql(consulta_nlp=consulta, metadata_token_limit= 1000)\n",
    "agent.close_connection()"
   ]
  },
  {
   "cell_type": "code",
   "execution_count": null,
   "metadata": {},
   "outputs": [],
   "source": [
    "print(agent2.historico_completo.historico)"
   ]
  },
  {
   "cell_type": "code",
   "execution_count": null,
   "metadata": {},
   "outputs": [],
   "source": []
  },
  {
   "cell_type": "code",
   "execution_count": null,
   "metadata": {},
   "outputs": [],
   "source": []
  },
  {
   "cell_type": "markdown",
   "metadata": {},
   "source": [
    "## Le volvemos a pasar la tabla en formato texto al llm para que nos comente los resultado"
   ]
  },
  {
   "cell_type": "code",
   "execution_count": null,
   "metadata": {},
   "outputs": [],
   "source": []
  },
  {
   "cell_type": "code",
   "execution_count": null,
   "metadata": {},
   "outputs": [],
   "source": [
    "informe = LLMsToDataBase.informe_resultado(consulta_usuario= consulta_pagila_03, tabla_texto=tabla_resultado, max_tokens_respuesta=2000 )\n",
    "simular_respuesta_generativa(informe)"
   ]
  },
  {
   "cell_type": "code",
   "execution_count": null,
   "metadata": {},
   "outputs": [],
   "source": [
    "llm_to_pagila.close_connection()"
   ]
  },
  {
   "cell_type": "code",
   "execution_count": null,
   "metadata": {},
   "outputs": [],
   "source": [
    "from calcular_tokens import num_tokens_from_string\n",
    "\n",
    "print(num_tokens_from_string(informe))\n",
    "print(num_tokens_from_string(tabla_resultado))"
   ]
  },
  {
   "cell_type": "code",
   "execution_count": null,
   "metadata": {},
   "outputs": [],
   "source": []
  }
 ],
 "metadata": {
  "kernelspec": {
   "display_name": "venv",
   "language": "python",
   "name": "python3"
  },
  "language_info": {
   "codemirror_mode": {
    "name": "ipython",
    "version": 3
   },
   "file_extension": ".py",
   "mimetype": "text/x-python",
   "name": "python",
   "nbconvert_exporter": "python",
   "pygments_lexer": "ipython3",
   "version": "3.9.11"
  }
 },
 "nbformat": 4,
 "nbformat_minor": 2
}
