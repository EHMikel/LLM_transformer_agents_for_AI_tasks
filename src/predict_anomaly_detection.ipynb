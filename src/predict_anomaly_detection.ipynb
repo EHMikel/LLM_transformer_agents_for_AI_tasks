{
 "cells": [
  {
   "cell_type": "code",
   "execution_count": 1,
   "metadata": {},
   "outputs": [],
   "source": [
    "import pandas as pd \n",
    "import numpy as np \n",
    "import matplotlib.pyplot as plt \n",
    "\n",
    "import os\n",
    "\n",
    "import warnings\n",
    "\n",
    "# Ignorar todos los warnings\n",
    "warnings.filterwarnings('ignore')"
   ]
  },
  {
   "cell_type": "markdown",
   "metadata": {},
   "source": [
    "# Cargar datos"
   ]
  },
  {
   "cell_type": "code",
   "execution_count": 2,
   "metadata": {},
   "outputs": [
    {
     "data": {
      "text/html": [
       "<div>\n",
       "<style scoped>\n",
       "    .dataframe tbody tr th:only-of-type {\n",
       "        vertical-align: middle;\n",
       "    }\n",
       "\n",
       "    .dataframe tbody tr th {\n",
       "        vertical-align: top;\n",
       "    }\n",
       "\n",
       "    .dataframe thead th {\n",
       "        text-align: right;\n",
       "    }\n",
       "</style>\n",
       "<table border=\"1\" class=\"dataframe\">\n",
       "  <thead>\n",
       "    <tr style=\"text-align: right;\">\n",
       "      <th></th>\n",
       "      <th>T_Supply</th>\n",
       "      <th>T_Return</th>\n",
       "      <th>SP_Return</th>\n",
       "      <th>T_Saturation</th>\n",
       "      <th>T_Outdoor</th>\n",
       "      <th>RH_Supply</th>\n",
       "      <th>RH_Return</th>\n",
       "      <th>RH_Outdoor</th>\n",
       "      <th>Energy</th>\n",
       "      <th>Power</th>\n",
       "      <th>delta_h</th>\n",
       "      <th>KPI</th>\n",
       "      <th>T_wb_out</th>\n",
       "      <th>month</th>\n",
       "      <th>day</th>\n",
       "      <th>hour</th>\n",
       "    </tr>\n",
       "    <tr>\n",
       "      <th>Timestamp</th>\n",
       "      <th></th>\n",
       "      <th></th>\n",
       "      <th></th>\n",
       "      <th></th>\n",
       "      <th></th>\n",
       "      <th></th>\n",
       "      <th></th>\n",
       "      <th></th>\n",
       "      <th></th>\n",
       "      <th></th>\n",
       "      <th></th>\n",
       "      <th></th>\n",
       "      <th></th>\n",
       "      <th></th>\n",
       "      <th></th>\n",
       "      <th></th>\n",
       "    </tr>\n",
       "  </thead>\n",
       "  <tbody>\n",
       "    <tr>\n",
       "      <th>2021-03-30 09:00:00</th>\n",
       "      <td>22.434999</td>\n",
       "      <td>22.855000</td>\n",
       "      <td>21.5</td>\n",
       "      <td>20.489999</td>\n",
       "      <td>13.4</td>\n",
       "      <td>45.340000</td>\n",
       "      <td>35.959999</td>\n",
       "      <td>58.00</td>\n",
       "      <td>13.0</td>\n",
       "      <td>5.166</td>\n",
       "      <td>14.417635</td>\n",
       "      <td>2.003910</td>\n",
       "      <td>3.346269</td>\n",
       "      <td>3</td>\n",
       "      <td>30</td>\n",
       "      <td>9</td>\n",
       "    </tr>\n",
       "    <tr>\n",
       "      <th>2021-04-08 02:00:00</th>\n",
       "      <td>19.959999</td>\n",
       "      <td>20.337499</td>\n",
       "      <td>20.5</td>\n",
       "      <td>20.470000</td>\n",
       "      <td>11.6</td>\n",
       "      <td>29.504999</td>\n",
       "      <td>17.670000</td>\n",
       "      <td>37.25</td>\n",
       "      <td>0.0</td>\n",
       "      <td>0.000</td>\n",
       "      <td>11.189831</td>\n",
       "      <td>1.326863</td>\n",
       "      <td>2.602869</td>\n",
       "      <td>4</td>\n",
       "      <td>8</td>\n",
       "      <td>2</td>\n",
       "    </tr>\n",
       "  </tbody>\n",
       "</table>\n",
       "</div>"
      ],
      "text/plain": [
       "                      T_Supply   T_Return  SP_Return  T_Saturation  T_Outdoor  \\\n",
       "Timestamp                                                                       \n",
       "2021-03-30 09:00:00  22.434999  22.855000       21.5     20.489999       13.4   \n",
       "2021-04-08 02:00:00  19.959999  20.337499       20.5     20.470000       11.6   \n",
       "\n",
       "                     RH_Supply  RH_Return  RH_Outdoor  Energy  Power  \\\n",
       "Timestamp                                                              \n",
       "2021-03-30 09:00:00  45.340000  35.959999       58.00    13.0  5.166   \n",
       "2021-04-08 02:00:00  29.504999  17.670000       37.25     0.0  0.000   \n",
       "\n",
       "                       delta_h       KPI  T_wb_out  month  day  hour  \n",
       "Timestamp                                                             \n",
       "2021-03-30 09:00:00  14.417635  2.003910  3.346269      3   30     9  \n",
       "2021-04-08 02:00:00  11.189831  1.326863  2.602869      4    8     2  "
      ]
     },
     "execution_count": 2,
     "metadata": {},
     "output_type": "execute_result"
    }
   ],
   "source": [
    "from load_store_utils import cargar_lote_datos\n",
    "\n",
    "# C:\\Users\\plane\\OneDrive\\Escritorio\\COMPUTING SCIENCE\\TFM_transformer_agents\\data\\Anomaly_detection\\processed_data\\\n",
    "datos_test = 'HVAC_test_processeded.csv'\n",
    "ruta_datos_procesados = '../data/Anomaly_detection/processed_data/'\n",
    "\n",
    "new_data = cargar_lote_datos(m_samples=2, name= datos_test, ruta_datos=ruta_datos_procesados)\n",
    "new_data"
   ]
  },
  {
   "cell_type": "markdown",
   "metadata": {},
   "source": [
    "# Cargamos modelos"
   ]
  },
  {
   "cell_type": "code",
   "execution_count": 3,
   "metadata": {},
   "outputs": [
    {
     "name": "stdout",
     "output_type": "stream",
     "text": [
      "Modelo cargado con éxito desde './models/anomaly_detection/scaler_trained.pickle'\n",
      "Modelo cargado con éxito desde './models/anomaly_detection/IF_trained.pickle'\n",
      "Modelo cargado con éxito desde './models/anomaly_detection/EE_trained.pickle'\n",
      "Modelo cargado con éxito desde './models/anomaly_detection/LOF_trained.pickle'\n",
      "Modelo cargado con éxito desde './models/anomaly_detection/OCSVM_trained.pickle'\n",
      "Modelo cargado con éxito desde './models/anomaly_detection/GM_trained.pickle'\n",
      "Modelo cargado con éxito desde './models/anomaly_detection/dbscan_knn.pickle'\n"
     ]
    }
   ],
   "source": [
    "from load_store_utils import cargar_modelo\n",
    "\n",
    "ruta = './models/anomaly_detection/'        # ruta a los modelos\n",
    "\n",
    "nombre_scl = 'scaler_trained.pickle'        # el escalador de datos\n",
    "\n",
    "# los modelos \n",
    "nombre_if = 'IF_trained.pickle'             # isolation forest\n",
    "nombre_ee = 'EE_trained.pickle'             # eliptic envelope\n",
    "nombre_lof = 'LOF_trained.pickle'           # local outlier factor\n",
    "nombre_ocsvm = 'OCSVM_trained.pickle'       # one class svm\n",
    "nombre_gm = 'GM_trained.pickle'             # gaussian mixtures\n",
    "nombre_knn = 'dbscan_knn.pickle'            # dbscan_knn\n",
    "\n",
    "scaler = cargar_modelo(name= nombre_scl, ruta_modelo=ruta)\n",
    "IF = cargar_modelo(name=nombre_if, ruta_modelo=ruta)\n",
    "EE = cargar_modelo(name=nombre_ee, ruta_modelo=ruta)\n",
    "LOF = cargar_modelo(name=nombre_lof, ruta_modelo=ruta)\n",
    "OCSVM = cargar_modelo(name= nombre_ocsvm, ruta_modelo= ruta)\n",
    "GM = cargar_modelo(name= nombre_gm, ruta_modelo= ruta)\n",
    "KNN_dbscan = cargar_modelo(name= nombre_knn, ruta_modelo= ruta)"
   ]
  },
  {
   "cell_type": "markdown",
   "metadata": {},
   "source": [
    "# Escalado de datos"
   ]
  },
  {
   "cell_type": "code",
   "execution_count": 4,
   "metadata": {},
   "outputs": [],
   "source": [
    "X_test_scl = scaler.transform(new_data)\n",
    "#X_test_scl[0]"
   ]
  },
  {
   "cell_type": "code",
   "execution_count": 5,
   "metadata": {},
   "outputs": [
    {
     "data": {
      "text/html": [
       "<div>\n",
       "<style scoped>\n",
       "    .dataframe tbody tr th:only-of-type {\n",
       "        vertical-align: middle;\n",
       "    }\n",
       "\n",
       "    .dataframe tbody tr th {\n",
       "        vertical-align: top;\n",
       "    }\n",
       "\n",
       "    .dataframe thead th {\n",
       "        text-align: right;\n",
       "    }\n",
       "</style>\n",
       "<table border=\"1\" class=\"dataframe\">\n",
       "  <thead>\n",
       "    <tr style=\"text-align: right;\">\n",
       "      <th></th>\n",
       "      <th>T_Supply</th>\n",
       "      <th>T_Return</th>\n",
       "      <th>SP_Return</th>\n",
       "      <th>T_Saturation</th>\n",
       "      <th>T_Outdoor</th>\n",
       "      <th>RH_Supply</th>\n",
       "      <th>RH_Return</th>\n",
       "      <th>RH_Outdoor</th>\n",
       "      <th>Energy</th>\n",
       "      <th>Power</th>\n",
       "      <th>delta_h</th>\n",
       "      <th>KPI</th>\n",
       "      <th>T_wb_out</th>\n",
       "      <th>month</th>\n",
       "      <th>day</th>\n",
       "      <th>hour</th>\n",
       "    </tr>\n",
       "    <tr>\n",
       "      <th>Timestamp</th>\n",
       "      <th></th>\n",
       "      <th></th>\n",
       "      <th></th>\n",
       "      <th></th>\n",
       "      <th></th>\n",
       "      <th></th>\n",
       "      <th></th>\n",
       "      <th></th>\n",
       "      <th></th>\n",
       "      <th></th>\n",
       "      <th></th>\n",
       "      <th></th>\n",
       "      <th></th>\n",
       "      <th></th>\n",
       "      <th></th>\n",
       "      <th></th>\n",
       "    </tr>\n",
       "  </thead>\n",
       "  <tbody>\n",
       "    <tr>\n",
       "      <th>2021-03-30 09:00:00</th>\n",
       "      <td>0.341368</td>\n",
       "      <td>1.271058</td>\n",
       "      <td>-1.835308</td>\n",
       "      <td>0.773095</td>\n",
       "      <td>0.13502</td>\n",
       "      <td>-0.097942</td>\n",
       "      <td>-0.286834</td>\n",
       "      <td>-0.859605</td>\n",
       "      <td>1.348107</td>\n",
       "      <td>1.332514</td>\n",
       "      <td>0.764776</td>\n",
       "      <td>0.117016</td>\n",
       "      <td>0.166629</td>\n",
       "      <td>-0.996183</td>\n",
       "      <td>1.607679</td>\n",
       "      <td>-0.359652</td>\n",
       "    </tr>\n",
       "    <tr>\n",
       "      <th>2021-04-08 02:00:00</th>\n",
       "      <td>-0.341541</td>\n",
       "      <td>0.110630</td>\n",
       "      <td>-3.661276</td>\n",
       "      <td>0.763109</td>\n",
       "      <td>-0.24826</td>\n",
       "      <td>-1.435547</td>\n",
       "      <td>-1.826979</td>\n",
       "      <td>-1.859179</td>\n",
       "      <td>-0.884262</td>\n",
       "      <td>-0.884357</td>\n",
       "      <td>0.293183</td>\n",
       "      <td>0.023759</td>\n",
       "      <td>-0.196643</td>\n",
       "      <td>-0.771695</td>\n",
       "      <td>-0.906613</td>\n",
       "      <td>-1.370496</td>\n",
       "    </tr>\n",
       "  </tbody>\n",
       "</table>\n",
       "</div>"
      ],
      "text/plain": [
       "                     T_Supply  T_Return  SP_Return  T_Saturation  T_Outdoor  \\\n",
       "Timestamp                                                                     \n",
       "2021-03-30 09:00:00  0.341368  1.271058  -1.835308      0.773095    0.13502   \n",
       "2021-04-08 02:00:00 -0.341541  0.110630  -3.661276      0.763109   -0.24826   \n",
       "\n",
       "                     RH_Supply  RH_Return  RH_Outdoor    Energy     Power  \\\n",
       "Timestamp                                                                   \n",
       "2021-03-30 09:00:00  -0.097942  -0.286834   -0.859605  1.348107  1.332514   \n",
       "2021-04-08 02:00:00  -1.435547  -1.826979   -1.859179 -0.884262 -0.884357   \n",
       "\n",
       "                      delta_h       KPI  T_wb_out     month       day  \\\n",
       "Timestamp                                                               \n",
       "2021-03-30 09:00:00  0.764776  0.117016  0.166629 -0.996183  1.607679   \n",
       "2021-04-08 02:00:00  0.293183  0.023759 -0.196643 -0.771695 -0.906613   \n",
       "\n",
       "                         hour  \n",
       "Timestamp                      \n",
       "2021-03-30 09:00:00 -0.359652  \n",
       "2021-04-08 02:00:00 -1.370496  "
      ]
     },
     "execution_count": 5,
     "metadata": {},
     "output_type": "execute_result"
    }
   ],
   "source": [
    "X_test_scl_df= pd.DataFrame(X_test_scl, columns= scaler.feature_names_in_, index= new_data.index)\n",
    "X_test_scl_df"
   ]
  },
  {
   "cell_type": "code",
   "execution_count": 6,
   "metadata": {},
   "outputs": [],
   "source": [
    "def parse_gm_predictions(gm_predictions): \n",
    "    gm_labels = []\n",
    "    for instance in gm_predictions: \n",
    "    #print(instance)\n",
    "        if max(instance) <0.99: gm_labels.append(-1)\n",
    "        else:                   gm_labels.append(1)\n",
    "    return gm_labels\n",
    "\n",
    "def parse_knn_predictions(knn_predictions): \n",
    "    knn_labels = []\n",
    "    knn_predicciones = KNN_dbscan.predict(X_test_scl_df)\n",
    "    for instance in knn_predicciones: \n",
    "        if instance == -1: knn_labels.append(-1)\n",
    "        else:              knn_labels.append(1)\n",
    "    return knn_labels"
   ]
  },
  {
   "cell_type": "markdown",
   "metadata": {},
   "source": [
    "# Predicciones "
   ]
  },
  {
   "cell_type": "code",
   "execution_count": 7,
   "metadata": {},
   "outputs": [
    {
     "name": "stdout",
     "output_type": "stream",
     "text": [
      "Las predicciones del modelo Isolation Forest: \n",
      "[1 1]\n",
      "\n",
      "Las predicciones del modelo Eliptic Envelope: \n",
      "[ 1 -1]\n",
      "\n",
      "Las predicciones del modelo Local Outlier Factor: \n",
      "[-1 -1]\n",
      "\n",
      "Las predicciones del modelo One Class SVM: \n",
      "[-1 -1]\n",
      "\n",
      "Las predicciones del modelo Gaussian Mixtures: \n",
      "[1, 1]\n",
      "\n",
      "Las predicciones del modelo KNN-DBSCAN: \n",
      "[1, 1]\n"
     ]
    }
   ],
   "source": [
    "# isolation forest \n",
    "\n",
    "if_predictions = IF.predict(X_test_scl_df)\n",
    "print(f'Las predicciones del modelo Isolation Forest: \\n{if_predictions}\\n')\n",
    "\n",
    "ee_predictions = EE.predict(X_test_scl_df)\n",
    "print(f'Las predicciones del modelo Eliptic Envelope: \\n{ee_predictions}\\n')\n",
    "\n",
    "lof_predictions = LOF.predict(X_test_scl_df)\n",
    "print(f'Las predicciones del modelo Local Outlier Factor: \\n{lof_predictions}\\n')\n",
    "\n",
    "ocsvm_predictions = OCSVM.predict(X_test_scl_df)\n",
    "print(f'Las predicciones del modelo One Class SVM: \\n{ocsvm_predictions}\\n')\n",
    "\n",
    "gm_predictions = GM.predict_proba(X_test_scl_df).round(4)\n",
    "\n",
    "gm_labels = parse_gm_predictions(gm_predictions=gm_predictions)\n",
    "\n",
    "print(f'Las predicciones del modelo Gaussian Mixtures: \\n{gm_labels}\\n')\n",
    "\n",
    "knn_predictions = KNN_dbscan.predict(X_test_scl_df)\n",
    "knn_labels = parse_knn_predictions(knn_predictions=knn_predictions)\n",
    "\n",
    "print(f'Las predicciones del modelo KNN-DBSCAN: \\n{knn_labels}')"
   ]
  },
  {
   "cell_type": "code",
   "execution_count": 8,
   "metadata": {},
   "outputs": [
    {
     "data": {
      "text/html": [
       "<div>\n",
       "<style scoped>\n",
       "    .dataframe tbody tr th:only-of-type {\n",
       "        vertical-align: middle;\n",
       "    }\n",
       "\n",
       "    .dataframe tbody tr th {\n",
       "        vertical-align: top;\n",
       "    }\n",
       "\n",
       "    .dataframe thead th {\n",
       "        text-align: right;\n",
       "    }\n",
       "</style>\n",
       "<table border=\"1\" class=\"dataframe\">\n",
       "  <thead>\n",
       "    <tr style=\"text-align: right;\">\n",
       "      <th></th>\n",
       "      <th>isolation_forest</th>\n",
       "      <th>Eliptic_Envelope</th>\n",
       "      <th>Local_Outlier_Factor</th>\n",
       "      <th>One_Class_SVM</th>\n",
       "      <th>Gaussian_Mixtures</th>\n",
       "      <th>KNN_DBSCAN</th>\n",
       "    </tr>\n",
       "    <tr>\n",
       "      <th>Timestamp</th>\n",
       "      <th></th>\n",
       "      <th></th>\n",
       "      <th></th>\n",
       "      <th></th>\n",
       "      <th></th>\n",
       "      <th></th>\n",
       "    </tr>\n",
       "  </thead>\n",
       "  <tbody>\n",
       "    <tr>\n",
       "      <th>2021-03-30 09:00:00</th>\n",
       "      <td>1</td>\n",
       "      <td>1</td>\n",
       "      <td>-1</td>\n",
       "      <td>-1</td>\n",
       "      <td>1</td>\n",
       "      <td>1</td>\n",
       "    </tr>\n",
       "    <tr>\n",
       "      <th>2021-04-08 02:00:00</th>\n",
       "      <td>1</td>\n",
       "      <td>-1</td>\n",
       "      <td>-1</td>\n",
       "      <td>-1</td>\n",
       "      <td>1</td>\n",
       "      <td>1</td>\n",
       "    </tr>\n",
       "  </tbody>\n",
       "</table>\n",
       "</div>"
      ],
      "text/plain": [
       "                     isolation_forest  Eliptic_Envelope  Local_Outlier_Factor  \\\n",
       "Timestamp                                                                       \n",
       "2021-03-30 09:00:00                 1                 1                    -1   \n",
       "2021-04-08 02:00:00                 1                -1                    -1   \n",
       "\n",
       "                     One_Class_SVM  Gaussian_Mixtures  KNN_DBSCAN  \n",
       "Timestamp                                                          \n",
       "2021-03-30 09:00:00             -1                  1           1  \n",
       "2021-04-08 02:00:00             -1                  1           1  "
      ]
     },
     "execution_count": 8,
     "metadata": {},
     "output_type": "execute_result"
    }
   ],
   "source": [
    "model_names = ['isolation_forest', 'Eliptic_Envelope', 'Local_Outlier_Factor', 'One_Class_SVM', 'Gaussian_Mixtures', 'KNN_DBSCAN']\n",
    "models = [IF, EE, LOF, OCSVM, GM, KNN_dbscan]\n",
    "dct_models = dict(zip(model_names, models))\n",
    "\n",
    "models_predictions = {}\n",
    "for name, model in dct_models.items():\n",
    "    \n",
    "    if name == 'Gaussian_Mixtures': \n",
    "        pred = model.predict_proba(X_test_scl_df)\n",
    "        predictions = parse_gm_predictions(pred)\n",
    "    elif name == 'KNN_DBSCAN':\n",
    "        pred = model.predict(X_test_scl_df)   \n",
    "        predictions = parse_knn_predictions(pred)\n",
    "    else: \n",
    "        predictions = model.predict(X_test_scl_df)\n",
    "\n",
    "    models_predictions[name] = predictions\n",
    "\n",
    "model_pred_df = pd.DataFrame(models_predictions, index= X_test_scl_df.index)\n",
    "model_pred_df"
   ]
  },
  {
   "cell_type": "markdown",
   "metadata": {},
   "source": [
    "# Pasando la predicción a open ai"
   ]
  },
  {
   "cell_type": "code",
   "execution_count": 9,
   "metadata": {},
   "outputs": [
    {
     "name": "stdout",
     "output_type": "stream",
     "text": [
      "| Timestamp           |   isolation_forest |   Eliptic_Envelope |   Local_Outlier_Factor |   One_Class_SVM |   Gaussian_Mixtures |   KNN_DBSCAN |\n",
      "|:--------------------|-------------------:|-------------------:|-----------------------:|----------------:|--------------------:|-------------:|\n",
      "| 2021-03-30 09:00:00 |                  1 |                  1 |                     -1 |              -1 |                   1 |            1 |\n",
      "| 2021-04-08 02:00:00 |                  1 |                 -1 |                     -1 |              -1 |                   1 |            1 |\n"
     ]
    }
   ],
   "source": [
    "model_pred_texto = model_pred_df.to_markdown()\n",
    "print(model_pred_texto)"
   ]
  },
  {
   "cell_type": "code",
   "execution_count": 10,
   "metadata": {},
   "outputs": [
    {
     "data": {
      "text/plain": [
       "143"
      ]
     },
     "execution_count": 10,
     "metadata": {},
     "output_type": "execute_result"
    }
   ],
   "source": [
    "from calcular_tokens import num_tokens_from_string\n",
    "\n",
    "num_tokens_from_string(model_pred_df.to_markdown())"
   ]
  },
  {
   "cell_type": "code",
   "execution_count": 11,
   "metadata": {},
   "outputs": [
    {
     "data": {
      "text/html": [
       "<div>\n",
       "<style scoped>\n",
       "    .dataframe tbody tr th:only-of-type {\n",
       "        vertical-align: middle;\n",
       "    }\n",
       "\n",
       "    .dataframe tbody tr th {\n",
       "        vertical-align: top;\n",
       "    }\n",
       "\n",
       "    .dataframe thead th {\n",
       "        text-align: right;\n",
       "    }\n",
       "</style>\n",
       "<table border=\"1\" class=\"dataframe\">\n",
       "  <thead>\n",
       "    <tr style=\"text-align: right;\">\n",
       "      <th></th>\n",
       "      <th>T_Supply</th>\n",
       "      <th>T_Return</th>\n",
       "      <th>SP_Return</th>\n",
       "      <th>T_Saturation</th>\n",
       "      <th>T_Outdoor</th>\n",
       "      <th>RH_Supply</th>\n",
       "      <th>RH_Return</th>\n",
       "      <th>RH_Outdoor</th>\n",
       "      <th>Energy</th>\n",
       "      <th>Power</th>\n",
       "    </tr>\n",
       "    <tr>\n",
       "      <th>Timestamp</th>\n",
       "      <th></th>\n",
       "      <th></th>\n",
       "      <th></th>\n",
       "      <th></th>\n",
       "      <th></th>\n",
       "      <th></th>\n",
       "      <th></th>\n",
       "      <th></th>\n",
       "      <th></th>\n",
       "      <th></th>\n",
       "    </tr>\n",
       "  </thead>\n",
       "  <tbody>\n",
       "    <tr>\n",
       "      <th>2021-03-30 09:00:00</th>\n",
       "      <td>22.434999</td>\n",
       "      <td>22.855000</td>\n",
       "      <td>21.5</td>\n",
       "      <td>20.489999</td>\n",
       "      <td>13.4</td>\n",
       "      <td>45.340000</td>\n",
       "      <td>35.959999</td>\n",
       "      <td>58.00</td>\n",
       "      <td>13.0</td>\n",
       "      <td>5.166</td>\n",
       "    </tr>\n",
       "    <tr>\n",
       "      <th>2021-04-08 02:00:00</th>\n",
       "      <td>19.959999</td>\n",
       "      <td>20.337499</td>\n",
       "      <td>20.5</td>\n",
       "      <td>20.470000</td>\n",
       "      <td>11.6</td>\n",
       "      <td>29.504999</td>\n",
       "      <td>17.670000</td>\n",
       "      <td>37.25</td>\n",
       "      <td>0.0</td>\n",
       "      <td>0.000</td>\n",
       "    </tr>\n",
       "  </tbody>\n",
       "</table>\n",
       "</div>"
      ],
      "text/plain": [
       "                      T_Supply   T_Return  SP_Return  T_Saturation  T_Outdoor  \\\n",
       "Timestamp                                                                       \n",
       "2021-03-30 09:00:00  22.434999  22.855000       21.5     20.489999       13.4   \n",
       "2021-04-08 02:00:00  19.959999  20.337499       20.5     20.470000       11.6   \n",
       "\n",
       "                     RH_Supply  RH_Return  RH_Outdoor  Energy  Power  \n",
       "Timestamp                                                             \n",
       "2021-03-30 09:00:00  45.340000  35.959999       58.00    13.0  5.166  \n",
       "2021-04-08 02:00:00  29.504999  17.670000       37.25     0.0  0.000  "
      ]
     },
     "metadata": {},
     "output_type": "display_data"
    }
   ],
   "source": [
    "new_data.columns\n",
    "\n",
    "columnas_base = ['T_Supply', 'T_Return', 'SP_Return', 'T_Saturation', 'T_Outdoor',\n",
    "                 'RH_Supply', 'RH_Return', 'RH_Outdoor', 'Energy', 'Power']\n",
    "\n",
    "datos_base = new_data[columnas_base]\n",
    "display(datos_base)"
   ]
  },
  {
   "cell_type": "code",
   "execution_count": 12,
   "metadata": {},
   "outputs": [
    {
     "name": "stdout",
     "output_type": "stream",
     "text": [
      "| Timestamp           |   T_Supply |   T_Return |   SP_Return |   T_Saturation |   T_Outdoor |   RH_Supply |   RH_Return |   RH_Outdoor |   Energy |   Power |\n",
      "|:--------------------|-----------:|-----------:|------------:|---------------:|------------:|------------:|------------:|-------------:|---------:|--------:|\n",
      "| 2021-03-30 09:00:00 |     22.435 |    22.855  |        21.5 |          20.49 |        13.4 |      45.34  |       35.96 |        58    |       13 |   5.166 |\n",
      "| 2021-04-08 02:00:00 |     19.96  |    20.3375 |        20.5 |          20.47 |        11.6 |      29.505 |       17.67 |        37.25 |        0 |   0     |\n"
     ]
    }
   ],
   "source": [
    "datos_base_texto = datos_base.to_markdown()\n",
    "\n",
    "\n",
    "print(datos_base_texto)"
   ]
  },
  {
   "cell_type": "code",
   "execution_count": 13,
   "metadata": {},
   "outputs": [
    {
     "name": "stdout",
     "output_type": "stream",
     "text": [
      "|       |   T_Supply |   T_Return |   SP_Return |   T_Saturation |   T_Outdoor |   RH_Supply |   RH_Return |   RH_Outdoor |   Energy |   Power |\n",
      "|:------|-----------:|-----------:|------------:|---------------:|------------:|------------:|------------:|-------------:|---------:|--------:|\n",
      "| count |    2       |    2       |    2        |      2         |     2       |      2      |      2      |       2      |  2       | 2       |\n",
      "| mean  |   21.1975  |   21.5962  |   21        |     20.48      |    12.5     |     37.4225 |     26.815  |      47.625  |  6.5     | 2.583   |\n",
      "| std   |    1.75009 |    1.78014 |    0.707107 |      0.0141421 |     1.27279 |     11.197  |     12.933  |      14.6725 |  9.19239 | 3.65291 |\n",
      "| min   |   19.96    |   20.3375  |   20.5      |     20.47      |    11.6     |     29.505  |     17.67   |      37.25   |  0       | 0       |\n",
      "| 25%   |   20.5787  |   20.9669  |   20.75     |     20.475     |    12.05    |     33.4637 |     22.2425 |      42.4375 |  3.25    | 1.2915  |\n",
      "| 50%   |   21.1975  |   21.5962  |   21        |     20.48      |    12.5     |     37.4225 |     26.815  |      47.625  |  6.5     | 2.583   |\n",
      "| 75%   |   21.8162  |   22.2256  |   21.25     |     20.485     |    12.95    |     41.3812 |     31.3875 |      52.8125 |  9.75    | 3.8745  |\n",
      "| max   |   22.435   |   22.855   |   21.5      |     20.49      |    13.4     |     45.34   |     35.96   |      58      | 13       | 5.166   |\n"
     ]
    }
   ],
   "source": [
    "descripcion_lectura = datos_base.describe().to_markdown()\n",
    "print(descripcion_lectura)"
   ]
  },
  {
   "cell_type": "code",
   "execution_count": 14,
   "metadata": {},
   "outputs": [
    {
     "data": {
      "text/plain": [
       "649"
      ]
     },
     "execution_count": 14,
     "metadata": {},
     "output_type": "execute_result"
    }
   ],
   "source": [
    "num_tokens_from_string(descripcion_lectura)"
   ]
  },
  {
   "cell_type": "code",
   "execution_count": 15,
   "metadata": {},
   "outputs": [
    {
     "data": {
      "text/plain": [
       "230"
      ]
     },
     "execution_count": 15,
     "metadata": {},
     "output_type": "execute_result"
    }
   ],
   "source": [
    "num_tokens_from_string(datos_base.to_markdown())"
   ]
  },
  {
   "cell_type": "code",
   "execution_count": 16,
   "metadata": {},
   "outputs": [
    {
     "data": {
      "text/plain": [
       "1300"
      ]
     },
     "execution_count": 16,
     "metadata": {},
     "output_type": "execute_result"
    }
   ],
   "source": [
    "from calcular_tokens import num_tokens_from_messages\n",
    "\n",
    "max_tokens_respuesta = 1000\n",
    "mi_consulta = 'hazme un breve informe de lo que ves en la tabla de lecura y dime si cuales de estas lecturas se pueden considerar valores anómalos'\n",
    "\n",
    "mi_prompt = [\n",
    "    {'role': 'system', 'content': f'Eres un asistente de ayuda para un diagnostico de fallos en un sistema energético que genera respuestas concisas. Por un lado, \\\n",
    "                                    generas un informe resumido y breve de las instancias  con el número de registros, el maximo y minimo, media, etc. Da las unidades \\\n",
    "                                    de las variables. NO DÉS INFORMACIÓN SOBRE LAS VARIABLES DE LECTURA El usuario ya lo sabe.  Por otro lado, haces un breve resumen de \\\n",
    "                                    que lecuras se consideran anomalas según la serie de algoritmos de detección de anomalias; 1 significa valor típico y -1 valor atípico. \\\n",
    "                                    Adecúa tu respuesta a un maximo de {max_tokens_respuesta-100} tokens o más breve'}, \n",
    "                                \n",
    "    {'role': 'user', 'content': f'A partir de la siguiente lectura:\\n {datos_base}\\n, con descripción: \\n {descripcion_lectura}\\n y la siguiente \\\n",
    "                                  predicción: \\n {model_pred_texto}\\n responde a mi consulta: \\n{mi_consulta}'},\n",
    "\n",
    "    {'role': 'assistant', 'content': 'INFORME: \\n generas aqui tu informe \\n \\\n",
    "                                      PREDICCIÓN: \\n comentas de manera concisa y breve que lecuras se consideran anomalas y cuales no por ´mayority voting´\\\n",
    "                                      COCLUSIÓN: \\n haz una breve conclusión'}\n",
    "]\n",
    "\n",
    "num_tokens_from_messages(mi_prompt)"
   ]
  },
  {
   "cell_type": "code",
   "execution_count": 17,
   "metadata": {},
   "outputs": [
    {
     "name": "stdout",
     "output_type": "stream",
     "text": [
      "INFORME:\n",
      "- Número de registros: 2\n",
      "- T_Supply: Mínimo 19.96°C, Máximo 22.435°C, Media 21.1975°C\n",
      "- T_Return: Mínimo 20.3375°C, Máximo 22.855°C, Media 21.5962°C\n",
      "- SP_Return: Mínimo 20.5°C, Máximo 21.5°C, Media 21°C\n",
      "- T_Saturation: Mínimo 20.47°C, Máximo 20.49°C, Media 20.48°C\n",
      "- T_Outdoor: Mínimo 11.6°C, Máximo 13.4°C, Media 12.5°C\n",
      "- RH_Supply: Mínimo 29.505%, Máximo 45.34%, Media 37.4225%\n",
      "- RH_Return: Mínimo 17.67%, Máximo 35.96%, Media 26.815%\n",
      "- RH_Outdoor: Mínimo 37.25%, Máximo 58%, Media 47.625%\n",
      "- Energy: Mínimo 0 kWh, Máximo 13 kWh, Media 6.5 kWh\n",
      "- Power: Mínimo 0 kW, Máximo 5.166 kW, Media 2.583 kW\n",
      "\n",
      "PREDICCIÓN:\n",
      "- La lectura del 2021-03-30 09:00:00 es considerada anómala por Local Outlier Factor y One Class SVM.\n",
      "- La lectura del 2021-04-08 02:00:00 es considerada anómala por Eliptic Envelope, Local Outlier Factor y One Class SVM.\n",
      "\n",
      "CONCLUSIÓN:\n",
      "La lectura del 2021-04-08 02:00:00 se considera más consistentemente anómala según la mayoría de los algoritmos aplicados. La lectura del 2021-03-30 09:00:00 presenta discrepancias entre los algoritmos, por lo que podría requerir una revisión adicional para confirmar si es una anomalía."
     ]
    }
   ],
   "source": [
    "from open_ai_utils import enviar_promt_chat_completions_mode\n",
    "from open_ai_utils import simular_respuesta_generativa\n",
    "\n",
    "respuesta = enviar_promt_chat_completions_mode(\n",
    "            mensaje= mi_prompt, \n",
    "            modelo=\"gpt-4-1106-preview\", \n",
    "            maximo_tokens=max_tokens_respuesta, \n",
    "            aleatoriedad=0.1, \n",
    "            probabilidad_acumulada=1 )\n",
    "\n",
    "simular_respuesta_generativa(respuesta)"
   ]
  }
 ],
 "metadata": {
  "kernelspec": {
   "display_name": "venv",
   "language": "python",
   "name": "python3"
  },
  "language_info": {
   "codemirror_mode": {
    "name": "ipython",
    "version": 3
   },
   "file_extension": ".py",
   "mimetype": "text/x-python",
   "name": "python",
   "nbconvert_exporter": "python",
   "pygments_lexer": "ipython3",
   "version": "3.9.11"
  }
 },
 "nbformat": 4,
 "nbformat_minor": 2
}
